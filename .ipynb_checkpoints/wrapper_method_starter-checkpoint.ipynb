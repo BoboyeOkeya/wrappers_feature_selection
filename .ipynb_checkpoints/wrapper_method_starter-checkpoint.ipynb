{
 "cells": [
  {
   "cell_type": "markdown",
   "id": "db690c0b",
   "metadata": {},
   "source": [
    "## Wrapper Methods\n",
    "\n",
    "In this project, you'll analyze data from a survey conducted by Fabio Mendoza Palechor and Alexis de la Hoz Manotas that asked people about their eating habits and weight. The data was obtained from the [UCI Machine Learning Repository](https://archive.ics.uci.edu/ml/datasets/Estimation+of+obesity+levels+based+on+eating+habits+and+physical+condition+). Categorical variables were changed to numerical ones in order to facilitate analysis.\n",
    "\n",
    "First, you'll fit a logistic regression model to try to predict whether survey respondents are obese based on their answers to questions in the survey. After that, you'll use three different wrapper methods to choose a smaller feature subset.\n",
    "\n",
    "You'll use sequential forward selection, sequential backward floating selection, and recursive feature elimination. After implementing each wrapper method, you'll evaluate the model accuracy on the resulting smaller feature subsets and compare that with the model accuracy using all available features."
   ]
  },
  {
   "cell_type": "code",
   "execution_count": 180,
   "id": "522b95f9",
   "metadata": {},
   "outputs": [],
   "source": [
    "# Import libraries\n",
    "import pandas as pd\n",
    "from sklearn.linear_model import LogisticRegression\n",
    "from mlxtend.feature_selection import SequentialFeatureSelector as SFS\n",
    "from mlxtend.plotting import plot_sequential_feature_selection as plot_sfs\n",
    "import matplotlib.pyplot as plt\n",
    "from sklearn.preprocessing import StandardScaler\n",
    "from sklearn.feature_selection import RFE\n",
    "\n",
    "import warnings\n",
    "warnings.filterwarnings('ignore')\n",
    "\n",
    "%matplotlib inline\n",
    "%matplotlib widget"
   ]
  },
  {
   "cell_type": "code",
   "execution_count": null,
   "id": "16760785",
   "metadata": {},
   "outputs": [],
   "source": []
  },
  {
   "cell_type": "markdown",
   "id": "6334c192",
   "metadata": {},
   "source": [
    "## Evaluating a Logistic Regression Model\n",
    "\n",
    "The data set `obesity` contains 18 predictor variables. Here's a brief description of them.\n",
    "\n",
    "* `Gender` is `1` if a respondent is male and `0` if a respondent is female.\n",
    "* `Age` is a respondent's age in years.\n",
    "* `family_history_with_overweight` is `1` if a respondent has family member who is or was overweight, `0` if not.\n",
    "* `FAVC` is `1` if a respondent eats high caloric food frequently, `0` if not.\n",
    "* `FCVC` is `1` if a respondent usually eats vegetables in their meals, `0` if not.\n",
    "* `NCP` represents how many main meals a respondent has daily (`0` for 1-2 meals, `1` for 3 meals, and `2` for more than 3 meals).\n",
    "* `CAEC` represents how much food a respondent eats between meals on a scale of `0` to `3`.\n",
    "* `SMOKE` is `1` if a respondent smokes, `0` if not.\n",
    "* `CH2O` represents how much water a respondent drinks on a scale of `0` to `2`.\n",
    "* `SCC` is `1` if a respondent monitors their caloric intake, `0` if not.\n",
    "* `FAF` represents how much physical activity a respondent does on a scale of `0` to `3`.\n",
    "* `TUE` represents how much time a respondent spends looking at devices with screens on a scale of `0` to `2`.\n",
    "* `CALC` represents how often a respondent drinks alcohol on a scale of `0` to `3`.\n",
    "* `Automobile`, `Bike`, `Motorbike`, `Public_Transportation`, and `Walking` indicate a respondent's primary mode of transportation. Their primary mode of transportation is indicated by a `1` and the other columns will contain a `0`.\n",
    "\n",
    "The outcome variable, `NObeyesdad`, is a `1` if a patient is obese and a `0` if not.\n",
    "\n",
    "Use the `.head()` method and inspect the data."
   ]
  },
  {
   "cell_type": "code",
   "execution_count": 181,
   "id": "7212b427",
   "metadata": {},
   "outputs": [
    {
     "data": {
      "text/html": [
       "<div>\n",
       "<style scoped>\n",
       "    .dataframe tbody tr th:only-of-type {\n",
       "        vertical-align: middle;\n",
       "    }\n",
       "\n",
       "    .dataframe tbody tr th {\n",
       "        vertical-align: top;\n",
       "    }\n",
       "\n",
       "    .dataframe thead th {\n",
       "        text-align: right;\n",
       "    }\n",
       "</style>\n",
       "<table border=\"1\" class=\"dataframe\">\n",
       "  <thead>\n",
       "    <tr style=\"text-align: right;\">\n",
       "      <th></th>\n",
       "      <th>Gender</th>\n",
       "      <th>Age</th>\n",
       "      <th>family_history_with_overweight</th>\n",
       "      <th>FAVC</th>\n",
       "      <th>FCVC</th>\n",
       "      <th>NCP</th>\n",
       "      <th>CAEC</th>\n",
       "      <th>SMOKE</th>\n",
       "      <th>CH2O</th>\n",
       "      <th>SCC</th>\n",
       "      <th>FAF</th>\n",
       "      <th>TUE</th>\n",
       "      <th>CALC</th>\n",
       "      <th>Automobile</th>\n",
       "      <th>Bike</th>\n",
       "      <th>Motorbike</th>\n",
       "      <th>Public_Transportation</th>\n",
       "      <th>Walking</th>\n",
       "      <th>NObeyesdad</th>\n",
       "    </tr>\n",
       "  </thead>\n",
       "  <tbody>\n",
       "    <tr>\n",
       "      <th>0</th>\n",
       "      <td>0</td>\n",
       "      <td>21.000000</td>\n",
       "      <td>1</td>\n",
       "      <td>0</td>\n",
       "      <td>2.0</td>\n",
       "      <td>3.0</td>\n",
       "      <td>1</td>\n",
       "      <td>0</td>\n",
       "      <td>2.000000</td>\n",
       "      <td>0</td>\n",
       "      <td>0.000000</td>\n",
       "      <td>1.000000</td>\n",
       "      <td>0</td>\n",
       "      <td>0</td>\n",
       "      <td>0</td>\n",
       "      <td>0</td>\n",
       "      <td>1</td>\n",
       "      <td>0</td>\n",
       "      <td>0</td>\n",
       "    </tr>\n",
       "    <tr>\n",
       "      <th>1</th>\n",
       "      <td>0</td>\n",
       "      <td>21.000000</td>\n",
       "      <td>1</td>\n",
       "      <td>0</td>\n",
       "      <td>3.0</td>\n",
       "      <td>3.0</td>\n",
       "      <td>1</td>\n",
       "      <td>1</td>\n",
       "      <td>3.000000</td>\n",
       "      <td>1</td>\n",
       "      <td>3.000000</td>\n",
       "      <td>0.000000</td>\n",
       "      <td>1</td>\n",
       "      <td>0</td>\n",
       "      <td>0</td>\n",
       "      <td>0</td>\n",
       "      <td>1</td>\n",
       "      <td>0</td>\n",
       "      <td>0</td>\n",
       "    </tr>\n",
       "    <tr>\n",
       "      <th>2</th>\n",
       "      <td>1</td>\n",
       "      <td>23.000000</td>\n",
       "      <td>1</td>\n",
       "      <td>0</td>\n",
       "      <td>2.0</td>\n",
       "      <td>3.0</td>\n",
       "      <td>1</td>\n",
       "      <td>0</td>\n",
       "      <td>2.000000</td>\n",
       "      <td>0</td>\n",
       "      <td>2.000000</td>\n",
       "      <td>1.000000</td>\n",
       "      <td>2</td>\n",
       "      <td>0</td>\n",
       "      <td>0</td>\n",
       "      <td>0</td>\n",
       "      <td>1</td>\n",
       "      <td>0</td>\n",
       "      <td>0</td>\n",
       "    </tr>\n",
       "    <tr>\n",
       "      <th>3</th>\n",
       "      <td>1</td>\n",
       "      <td>27.000000</td>\n",
       "      <td>0</td>\n",
       "      <td>0</td>\n",
       "      <td>3.0</td>\n",
       "      <td>3.0</td>\n",
       "      <td>1</td>\n",
       "      <td>0</td>\n",
       "      <td>2.000000</td>\n",
       "      <td>0</td>\n",
       "      <td>2.000000</td>\n",
       "      <td>0.000000</td>\n",
       "      <td>2</td>\n",
       "      <td>0</td>\n",
       "      <td>0</td>\n",
       "      <td>0</td>\n",
       "      <td>0</td>\n",
       "      <td>1</td>\n",
       "      <td>0</td>\n",
       "    </tr>\n",
       "    <tr>\n",
       "      <th>4</th>\n",
       "      <td>1</td>\n",
       "      <td>22.000000</td>\n",
       "      <td>0</td>\n",
       "      <td>0</td>\n",
       "      <td>2.0</td>\n",
       "      <td>1.0</td>\n",
       "      <td>1</td>\n",
       "      <td>0</td>\n",
       "      <td>2.000000</td>\n",
       "      <td>0</td>\n",
       "      <td>0.000000</td>\n",
       "      <td>0.000000</td>\n",
       "      <td>1</td>\n",
       "      <td>0</td>\n",
       "      <td>0</td>\n",
       "      <td>0</td>\n",
       "      <td>1</td>\n",
       "      <td>0</td>\n",
       "      <td>0</td>\n",
       "    </tr>\n",
       "    <tr>\n",
       "      <th>...</th>\n",
       "      <td>...</td>\n",
       "      <td>...</td>\n",
       "      <td>...</td>\n",
       "      <td>...</td>\n",
       "      <td>...</td>\n",
       "      <td>...</td>\n",
       "      <td>...</td>\n",
       "      <td>...</td>\n",
       "      <td>...</td>\n",
       "      <td>...</td>\n",
       "      <td>...</td>\n",
       "      <td>...</td>\n",
       "      <td>...</td>\n",
       "      <td>...</td>\n",
       "      <td>...</td>\n",
       "      <td>...</td>\n",
       "      <td>...</td>\n",
       "      <td>...</td>\n",
       "      <td>...</td>\n",
       "    </tr>\n",
       "    <tr>\n",
       "      <th>2096</th>\n",
       "      <td>0</td>\n",
       "      <td>25.955014</td>\n",
       "      <td>1</td>\n",
       "      <td>1</td>\n",
       "      <td>3.0</td>\n",
       "      <td>3.0</td>\n",
       "      <td>1</td>\n",
       "      <td>0</td>\n",
       "      <td>2.094901</td>\n",
       "      <td>0</td>\n",
       "      <td>0.070890</td>\n",
       "      <td>0.599441</td>\n",
       "      <td>1</td>\n",
       "      <td>0</td>\n",
       "      <td>0</td>\n",
       "      <td>0</td>\n",
       "      <td>1</td>\n",
       "      <td>0</td>\n",
       "      <td>1</td>\n",
       "    </tr>\n",
       "    <tr>\n",
       "      <th>2097</th>\n",
       "      <td>0</td>\n",
       "      <td>25.996716</td>\n",
       "      <td>1</td>\n",
       "      <td>1</td>\n",
       "      <td>3.0</td>\n",
       "      <td>3.0</td>\n",
       "      <td>1</td>\n",
       "      <td>0</td>\n",
       "      <td>2.347322</td>\n",
       "      <td>0</td>\n",
       "      <td>0.008013</td>\n",
       "      <td>0.503896</td>\n",
       "      <td>1</td>\n",
       "      <td>0</td>\n",
       "      <td>0</td>\n",
       "      <td>0</td>\n",
       "      <td>1</td>\n",
       "      <td>0</td>\n",
       "      <td>1</td>\n",
       "    </tr>\n",
       "    <tr>\n",
       "      <th>2098</th>\n",
       "      <td>0</td>\n",
       "      <td>25.992348</td>\n",
       "      <td>1</td>\n",
       "      <td>1</td>\n",
       "      <td>3.0</td>\n",
       "      <td>3.0</td>\n",
       "      <td>1</td>\n",
       "      <td>0</td>\n",
       "      <td>2.331123</td>\n",
       "      <td>0</td>\n",
       "      <td>0.063383</td>\n",
       "      <td>0.561661</td>\n",
       "      <td>1</td>\n",
       "      <td>0</td>\n",
       "      <td>0</td>\n",
       "      <td>0</td>\n",
       "      <td>1</td>\n",
       "      <td>0</td>\n",
       "      <td>1</td>\n",
       "    </tr>\n",
       "    <tr>\n",
       "      <th>2099</th>\n",
       "      <td>0</td>\n",
       "      <td>25.974446</td>\n",
       "      <td>1</td>\n",
       "      <td>1</td>\n",
       "      <td>3.0</td>\n",
       "      <td>3.0</td>\n",
       "      <td>1</td>\n",
       "      <td>0</td>\n",
       "      <td>1.757105</td>\n",
       "      <td>0</td>\n",
       "      <td>0.085119</td>\n",
       "      <td>0.465444</td>\n",
       "      <td>1</td>\n",
       "      <td>0</td>\n",
       "      <td>0</td>\n",
       "      <td>0</td>\n",
       "      <td>1</td>\n",
       "      <td>0</td>\n",
       "      <td>1</td>\n",
       "    </tr>\n",
       "    <tr>\n",
       "      <th>2100</th>\n",
       "      <td>0</td>\n",
       "      <td>25.777565</td>\n",
       "      <td>1</td>\n",
       "      <td>1</td>\n",
       "      <td>3.0</td>\n",
       "      <td>3.0</td>\n",
       "      <td>1</td>\n",
       "      <td>0</td>\n",
       "      <td>2.506631</td>\n",
       "      <td>0</td>\n",
       "      <td>0.025787</td>\n",
       "      <td>0.484165</td>\n",
       "      <td>1</td>\n",
       "      <td>0</td>\n",
       "      <td>0</td>\n",
       "      <td>0</td>\n",
       "      <td>1</td>\n",
       "      <td>0</td>\n",
       "      <td>1</td>\n",
       "    </tr>\n",
       "  </tbody>\n",
       "</table>\n",
       "<p>2101 rows × 19 columns</p>\n",
       "</div>"
      ],
      "text/plain": [
       "      Gender        Age  family_history_with_overweight  FAVC  FCVC  NCP  \\\n",
       "0          0  21.000000                               1     0   2.0  3.0   \n",
       "1          0  21.000000                               1     0   3.0  3.0   \n",
       "2          1  23.000000                               1     0   2.0  3.0   \n",
       "3          1  27.000000                               0     0   3.0  3.0   \n",
       "4          1  22.000000                               0     0   2.0  1.0   \n",
       "...      ...        ...                             ...   ...   ...  ...   \n",
       "2096       0  25.955014                               1     1   3.0  3.0   \n",
       "2097       0  25.996716                               1     1   3.0  3.0   \n",
       "2098       0  25.992348                               1     1   3.0  3.0   \n",
       "2099       0  25.974446                               1     1   3.0  3.0   \n",
       "2100       0  25.777565                               1     1   3.0  3.0   \n",
       "\n",
       "      CAEC  SMOKE      CH2O  SCC       FAF       TUE  CALC  Automobile  Bike  \\\n",
       "0        1      0  2.000000    0  0.000000  1.000000     0           0     0   \n",
       "1        1      1  3.000000    1  3.000000  0.000000     1           0     0   \n",
       "2        1      0  2.000000    0  2.000000  1.000000     2           0     0   \n",
       "3        1      0  2.000000    0  2.000000  0.000000     2           0     0   \n",
       "4        1      0  2.000000    0  0.000000  0.000000     1           0     0   \n",
       "...    ...    ...       ...  ...       ...       ...   ...         ...   ...   \n",
       "2096     1      0  2.094901    0  0.070890  0.599441     1           0     0   \n",
       "2097     1      0  2.347322    0  0.008013  0.503896     1           0     0   \n",
       "2098     1      0  2.331123    0  0.063383  0.561661     1           0     0   \n",
       "2099     1      0  1.757105    0  0.085119  0.465444     1           0     0   \n",
       "2100     1      0  2.506631    0  0.025787  0.484165     1           0     0   \n",
       "\n",
       "      Motorbike  Public_Transportation  Walking  NObeyesdad  \n",
       "0             0                      1        0           0  \n",
       "1             0                      1        0           0  \n",
       "2             0                      1        0           0  \n",
       "3             0                      0        1           0  \n",
       "4             0                      1        0           0  \n",
       "...         ...                    ...      ...         ...  \n",
       "2096          0                      1        0           1  \n",
       "2097          0                      1        0           1  \n",
       "2098          0                      1        0           1  \n",
       "2099          0                      1        0           1  \n",
       "2100          0                      1        0           1  \n",
       "\n",
       "[2101 rows x 19 columns]"
      ]
     },
     "execution_count": 181,
     "metadata": {},
     "output_type": "execute_result"
    }
   ],
   "source": [
    "# https://archive.ics.uci.edu/ml/datasets/Estimation+of+obesity+levels+based+on+eating+habits+and+physical+condition+\n",
    "\n",
    "# Load the data\n",
    "obesity = pd.read_csv(\"obesity.csv\")\n",
    "\n",
    "# Inspect the data\n",
    "obesity.head(-10)"
   ]
  },
  {
   "cell_type": "markdown",
   "id": "2a57061f",
   "metadata": {},
   "source": [
    "### Split the data into `X` and `y`\n",
    "\n",
    "In order to use a linear regression model, you'll need to split the data into two parts: the predictor variables and an outcome variable. Do this by splitting the data into a DataFrame of predictor variables called `X` and a Series of outcome variables `y`."
   ]
  },
  {
   "cell_type": "code",
   "execution_count": 182,
   "id": "32f5fb07",
   "metadata": {},
   "outputs": [
    {
     "name": "stdout",
     "output_type": "stream",
     "text": [
      "<class 'pandas.core.frame.DataFrame'>\n",
      "RangeIndex: 2111 entries, 0 to 2110\n",
      "Data columns (total 18 columns):\n",
      " #   Column                          Non-Null Count  Dtype  \n",
      "---  ------                          --------------  -----  \n",
      " 0   Gender                          2111 non-null   int64  \n",
      " 1   Age                             2111 non-null   float64\n",
      " 2   family_history_with_overweight  2111 non-null   int64  \n",
      " 3   FAVC                            2111 non-null   int64  \n",
      " 4   FCVC                            2111 non-null   float64\n",
      " 5   NCP                             2111 non-null   float64\n",
      " 6   CAEC                            2111 non-null   int64  \n",
      " 7   SMOKE                           2111 non-null   int64  \n",
      " 8   CH2O                            2111 non-null   float64\n",
      " 9   SCC                             2111 non-null   int64  \n",
      " 10  FAF                             2111 non-null   float64\n",
      " 11  TUE                             2111 non-null   float64\n",
      " 12  CALC                            2111 non-null   int64  \n",
      " 13  Automobile                      2111 non-null   int64  \n",
      " 14  Bike                            2111 non-null   int64  \n",
      " 15  Motorbike                       2111 non-null   int64  \n",
      " 16  Public_Transportation           2111 non-null   int64  \n",
      " 17  Walking                         2111 non-null   int64  \n",
      "dtypes: float64(6), int64(12)\n",
      "memory usage: 297.0 KB\n",
      "None\n"
     ]
    }
   ],
   "source": [
    "y= obesity['NObeyesdad']\n",
    "X = obesity.drop(columns=['NObeyesdad'])\n",
    "print(X.info())"
   ]
  },
  {
   "cell_type": "markdown",
   "id": "7064c0ad",
   "metadata": {},
   "source": [
    "### Logistic regression model\n",
    "\n",
    "Create a logistic regression model called `lr`. Include the parameter `max_iter=1000` to make sure that the model will converge when you try to fit it."
   ]
  },
  {
   "cell_type": "code",
   "execution_count": 183,
   "id": "5691193c",
   "metadata": {},
   "outputs": [],
   "source": [
    "lr = LogisticRegression(max_iter=1000)"
   ]
  },
  {
   "cell_type": "markdown",
   "id": "abde12f3",
   "metadata": {},
   "source": [
    "### Fit the model\n",
    "\n",
    "Use the `.fit()` method on `lr` to fit the model to `X` and `y`."
   ]
  },
  {
   "cell_type": "code",
   "execution_count": 184,
   "id": "6563740e",
   "metadata": {},
   "outputs": [],
   "source": [
    "lr.fit(X,y);"
   ]
  },
  {
   "cell_type": "markdown",
   "id": "90597456",
   "metadata": {},
   "source": [
    "### Model accuracy\n",
    "\n",
    "A model's _accuracy_ is the proportion of classes that the model correctly predicts. is Compute and print the accuracy of `lr` by using the `.score()` method. What percentage of respondents did the model correctly predict as being either obese or not obese? You may want to write this number down somewhere so that you can refer to it during future tasks."
   ]
  },
  {
   "cell_type": "code",
   "execution_count": 185,
   "id": "dfac9ffa",
   "metadata": {},
   "outputs": [
    {
     "name": "stdout",
     "output_type": "stream",
     "text": [
      "The logistic model accurately predicted 76.599% of respondents as obese\n"
     ]
    }
   ],
   "source": [
    "print(f'The logistic model accurately predicted {round(100*lr.score(X,y),3)}% of respondents as obese')"
   ]
  },
  {
   "cell_type": "markdown",
   "id": "eb0031b5",
   "metadata": {},
   "source": [
    "## Sequential Forward Selection\n",
    "\n",
    "Now that you've created a logistic regression model and evaluated its performance, you're ready to do some feature selection. \n",
    "\n",
    "Create a sequential forward selection model called `sfs`. \n",
    "* Be sure to set the `estimator` parameter to `lr` and set the `forward` and `floating` parameters to the appropriate values. \n",
    "* Also use the parameters `k_features=9`, `scoring='accuracy'`, and `cv=0`."
   ]
  },
  {
   "cell_type": "code",
   "execution_count": 186,
   "id": "49500d6c",
   "metadata": {},
   "outputs": [],
   "source": [
    "sfs = SFS(estimator=lr,k_features=9,forward=True,floating=False,scoring='accuracy',cv=0)"
   ]
  },
  {
   "cell_type": "markdown",
   "id": "9c280706",
   "metadata": {},
   "source": [
    "### Fit the model\n",
    "\n",
    "Use the `.fit()` method on `sfs` to fit the model to `X` and `y`. This step will take some time (not more than a minute) to run."
   ]
  },
  {
   "cell_type": "code",
   "execution_count": 187,
   "id": "fc02c110",
   "metadata": {},
   "outputs": [],
   "source": [
    "sfs.fit(X,y);"
   ]
  },
  {
   "cell_type": "markdown",
   "id": "af191b18",
   "metadata": {},
   "source": [
    "### Inspect the results\n",
    "\n",
    "Now that you've run the sequential forward selection algorithm on the logistic regression model with `X` and `y` you can see what features were chosen and check the model accuracy on the smaller feature set. Print `sfs.subsets_[9]` to inspect the results of sequential forward selection."
   ]
  },
  {
   "cell_type": "code",
   "execution_count": 188,
   "id": "12f6bc9e",
   "metadata": {},
   "outputs": [
    {
     "name": "stdout",
     "output_type": "stream",
     "text": [
      "{'feature_idx': (0, 1, 2, 3, 6, 9, 10, 14, 17), 'cv_scores': array([0.78351492]), 'avg_score': 0.7835149218379914, 'feature_names': ('Gender', 'Age', 'family_history_with_overweight', 'FAVC', 'CAEC', 'SCC', 'FAF', 'Bike', 'Walking')}\n"
     ]
    }
   ],
   "source": [
    "print(sfs.subsets_[9])"
   ]
  },
  {
   "cell_type": "markdown",
   "id": "e506cb73",
   "metadata": {},
   "source": [
    "### Chosen features and model accuracy\n",
    "\n",
    "Use the dictionary `sfs.subsets_[9]` to print a tuple of chosen feature names. Then use it to print the accuracy of the model after doing sequential forward selection. How does this compare to the model's accuracy on all available features?"
   ]
  },
  {
   "cell_type": "code",
   "execution_count": 189,
   "id": "c1ecc774",
   "metadata": {},
   "outputs": [
    {
     "name": "stdout",
     "output_type": "stream",
     "text": [
      "('Gender', 'Age', 'family_history_with_overweight', 'FAVC', 'CAEC', 'SCC', 'FAF', 'Bike', 'Walking')\n",
      "0.7835149218379914\n",
      "The sequential forward selection selected the features that increased the linear regression's accuracy from 76.6% to 78.35%\n"
     ]
    }
   ],
   "source": [
    "print(sfs.subsets_[9]['feature_names'])\n",
    "sfs_score = sfs.subsets_[9]['avg_score']\n",
    "print(sfs_score)\n",
    "\n",
    "print(f'The sequential forward selection selected the features that increased the linear regression\\'s accuracy from {round(100*lr.score(X,y),2)}% to {round(100*sfs_score,2)}%')     "
   ]
  },
  {
   "cell_type": "markdown",
   "id": "30b3d8da",
   "metadata": {},
   "source": [
    "### Visualize model accuracy\n",
    "\n",
    "It can be helpful to visualize the results of sequential forward selection and see how accuracy is affected as each feature is added. Use the code `plot_sfs(sfs.get_metric_dict())` to plot the model accuracy as a function of the number of features used. Make sure to show your plot as well."
   ]
  },
  {
   "cell_type": "code",
   "execution_count": 190,
   "id": "7a489e6d",
   "metadata": {
    "scrolled": true
   },
   "outputs": [
    {
     "data": {
      "application/vnd.jupyter.widget-view+json": {
       "model_id": "67f5af01a18842cfaa7925ad1ec8c283",
       "version_major": 2,
       "version_minor": 0
      },
      "image/png": "[encoded data removed]",
      "text/html": [
       "\n",
       "            <div style=\"display: inline-block;\">\n",
       "                <div class=\"jupyter-widgets widget-label\" style=\"text-align: center;\">\n",
       "                    Figure\n",
       "                </div>\n",
       "                <img src='data:image/png;base64,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' width=432.0/>\n",
       "            </div>\n",
       "        "
      ],
      "text/plain": [
       "Canvas(toolbar=Toolbar(toolitems=[('Home', 'Reset original view', 'home', 'home'), ('Back', 'Back to previous …"
      ]
     },
     "metadata": {},
     "output_type": "display_data"
    },
    {
     "data": {
      "application/vnd.jupyter.widget-view+json": {
       "model_id": "5729d3b6494b4980afa1f06e2f3756e3",
       "version_major": 2,
       "version_minor": 0
      },
      "image/png": "[encoded data removed]",
      "text/html": [
       "\n",
       "            <div style=\"display: inline-block;\">\n",
       "                <div class=\"jupyter-widgets widget-label\" style=\"text-align: center;\">\n",
       "                    Figure\n",
       "                </div>\n",
       "                <img src='data:image/png;base64,iVBORw0KGgoAAAANSUhEUgAAAbAAAAEgCAYAAADVKCZpAAAAOXRFWHRTb2Z0d2FyZQBNYXRwbG90bGliIHZlcnNpb24zLjUuMiwgaHR0cHM6Ly9tYXRwbG90bGliLm9yZy8qNh9FAAAACXBIWXMAAAsTAAALEwEAmpwYAAAEV0lEQVR4nO3VQQ0AIBDAMMC/58MDH7KkVbDf9szMAoCY8zsAAF4YGABJBgZAkoEBkGRgACQZGABJBgZAkoEBkGRgACQZGABJBgZAkoEBkGRgACQZGABJBgZAkoEBkGRgACQZGABJBgZAkoEBkGRgACQZGABJBgZAkoEBkGRgACQZGABJBgZAkoEBkGRgACQZGABJBgZAkoEBkGRgACQZGABJBgZAkoEBkGRgACQZGABJBgZAkoEBkGRgACQZGABJBgZAkoEBkGRgACQZGABJBgZAkoEBkGRgACQZGABJBgZAkoEBkGRgACQZGABJBgZAkoEBkGRgACQZGABJBgZAkoEBkGRgACQZGABJBgZAkoEBkGRgACQZGABJBgZAkoEBkGRgACQZGABJBgZAkoEBkGRgACQZGABJBgZAkoEBkGRgACQZGABJBgZAkoEBkGRgACQZGABJBgZAkoEBkGRgACQZGABJBgZAkoEBkGRgACQZGABJBgZAkoEBkGRgACQZGABJBgZAkoEBkGRgACQZGABJBgZAkoEBkGRgACQZGABJBgZAkoEBkGRgACQZGABJBgZAkoEBkGRgACQZGABJBgZAkoEBkGRgACQZGABJBgZAkoEBkGRgACQZGABJBgZAkoEBkGRgACQZGABJBgZAkoEBkGRgACQZGABJBgZAkoEBkGRgACQZGABJBgZAkoEBkGRgACQZGABJBgZAkoEBkGRgACQZGABJBgZAkoEBkGRgACQZGABJBgZAkoEBkGRgACQZGABJBgZAkoEBkGRgACQZGABJBgZAkoEBkGRgACQZGABJBgZAkoEBkGRgACQZGABJBgZAkoEBkGRgACQZGABJBgZAkoEBkGRgACQZGABJBgZAkoEBkGRgACQZGABJBgZAkoEBkGRgACQZGABJBgZAkoEBkGRgACQZGABJBgZAkoEBkGRgACQZGABJBgZAkoEBkGRgACQZGABJBgZAkoEBkGRgACQZGABJBgZAkoEBkGRgACQZGABJBgZAkoEBkGRgACQZGABJBgZAkoEBkGRgACQZGABJBgZAkoEBkGRgACQZGABJBgZAkoEBkGRgACQZGABJBgZAkoEBkGRgACQZGABJBgZAkoEBkGRgACQZGABJBgZAkoEBkGRgACQZGABJBgZAkoEBkGRgACQZGABJBgZAkoEBkGRgACQZGABJBgZAkoEBkGRgACQZGABJBgZAkoEBkGRgACQZGABJBgZAkoEBkGRgACQZGABJBgZAkoEBkGRgACQZGABJBgZAkoEBkGRgACQZGABJBgZAkoEBkGRgACQZGABJBgZAkoEBkGRgACQZGABJBgZAkoEBkGRgACQZGABJBgZAkoEBkGRgACQZGABJBgZAkoEBkGRgACQZGABJBgZAkoEBkGRgACQZGABJBgZAkoEBkGRgACQZGABJBgZAkoEBkGRgACQZGABJBgZAkoEBkGRgACQZGABJBgZA0gU1jgY8wkDjcAAAAABJRU5ErkJggg==' width=432.0/>\n",
       "            </div>\n",
       "        "
      ],
      "text/plain": [
       "Canvas(toolbar=Toolbar(toolitems=[('Home', 'Reset original view', 'home', 'home'), ('Back', 'Back to previous …"
      ]
     },
     "metadata": {},
     "output_type": "display_data"
    }
   ],
   "source": [
    "plt.figure(facecolor='w', edgecolor='w')\n",
    "plot_sfs(sfs.get_metric_dict())\n",
    "plt.title('Sequential Forward Selection')\n",
    "plt.show()"
   ]
  },
  {
   "cell_type": "markdown",
   "id": "fd205e6a",
   "metadata": {},
   "source": [
    "## Sequential Backward Selection"
   ]
  },
  {
   "cell_type": "markdown",
   "id": "f2c4e151",
   "metadata": {},
   "source": [
    "Sequential forward selection was able to find a feature subset that performed marginally better than the full feature set. Let's use a different sequential method and see how it compares.\n",
    "\n",
    "Create a sequential backward selection model called `sbs`. \n",
    "* Be sure to set the `estimator` parameter to `lr` and set the `forward` and `floating` parameters to the appropriate values.\n",
    "* Also use the parameters `k_features=7`, `scoring='accuracy'`, and `cv=0`."
   ]
  },
  {
   "cell_type": "code",
   "execution_count": 191,
   "id": "cea9b586",
   "metadata": {},
   "outputs": [],
   "source": [
    "sbs = SFS(estimator=lr,forward=False,floating=False,k_features=7,scoring='accuracy',cv=0)"
   ]
  },
  {
   "cell_type": "markdown",
   "id": "d0c956fb",
   "metadata": {},
   "source": [
    "### Fit the model\n",
    "\n",
    "Use the `.fit()` method on `sbs` to fit the model to `X` and `y`."
   ]
  },
  {
   "cell_type": "code",
   "execution_count": 192,
   "id": "523f6dee",
   "metadata": {},
   "outputs": [],
   "source": [
    "sbs.fit(X,y);"
   ]
  },
  {
   "cell_type": "markdown",
   "id": "bf4a2dbd",
   "metadata": {},
   "source": [
    "### Inspect the results\n",
    "\n",
    "Now that you've run the sequential backward selection algorithm on the logistic regression model with `X` and `y` you can see what features were chosen and check the model accuracy on the smaller feature set. Print `sbs.subsets_[7]` to inspect the results of sequential backward selection."
   ]
  },
  {
   "cell_type": "code",
   "execution_count": 193,
   "id": "b65e677d",
   "metadata": {},
   "outputs": [
    {
     "name": "stdout",
     "output_type": "stream",
     "text": [
      "{'feature_idx': (1, 2, 3, 4, 6, 9, 16), 'cv_scores': array([0.76409285]), 'avg_score': 0.7640928469919469, 'feature_names': ('Age', 'family_history_with_overweight', 'FAVC', 'FCVC', 'CAEC', 'SCC', 'Public_Transportation')}\n"
     ]
    }
   ],
   "source": [
    "print(sbs.subsets_[7])"
   ]
  },
  {
   "cell_type": "markdown",
   "id": "3bb61124",
   "metadata": {},
   "source": [
    "### Chosen features and model accuracy\n",
    "\n",
    "Use the dictionary `sbs.subsets_[7]` to print a tuple of chosen feature names. Then use it to print the accuracy of the model after doing sequential backward selection. How does this compare to the model's accuracy on all available features?"
   ]
  },
  {
   "cell_type": "code",
   "execution_count": 194,
   "id": "26c4933c",
   "metadata": {},
   "outputs": [
    {
     "name": "stdout",
     "output_type": "stream",
     "text": [
      "('Age', 'family_history_with_overweight', 'FAVC', 'FCVC', 'CAEC', 'SCC', 'Public_Transportation')\n",
      "0.7640928469919469\n",
      "0.7659876835622927\n"
     ]
    }
   ],
   "source": [
    "print(sbs.subsets_[7]['feature_names'])\n",
    "sbs_score = sbs.subsets_[7]['avg_score']\n",
    "print(sbs_score)\n",
    "print(sbs.subsets_[18]['avg_score'])"
   ]
  },
  {
   "cell_type": "markdown",
   "id": "c874a8ce",
   "metadata": {},
   "source": [
    "### Visualize model accuracy\n",
    "\n",
    "You can visualize the results of sequential backward floating selection just as you did with sequential forward selection. Use the code `plot_sfs(sbs.get_metric_dict())` to plot the model accuracy as a function of the number of features used."
   ]
  },
  {
   "cell_type": "code",
   "execution_count": 195,
   "id": "b24fdaa7",
   "metadata": {
    "scrolled": true
   },
   "outputs": [
    {
     "data": {
      "application/vnd.jupyter.widget-view+json": {
       "model_id": "0d3195c53f43459e9e028a98675b1beb",
       "version_major": 2,
       "version_minor": 0
      },
      "image/png": "[encoded data removed]",
      "text/html": [
       "\n",
       "            <div style=\"display: inline-block;\">\n",
       "                <div class=\"jupyter-widgets widget-label\" style=\"text-align: center;\">\n",
       "                    Figure\n",
       "                </div>\n",
       "                <img src='data:image/png;base64,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' width=432.0/>\n",
       "            </div>\n",
       "        "
      ],
      "text/plain": [
       "Canvas(toolbar=Toolbar(toolitems=[('Home', 'Reset original view', 'home', 'home'), ('Back', 'Back to previous …"
      ]
     },
     "metadata": {},
     "output_type": "display_data"
    },
    {
     "data": {
      "application/vnd.jupyter.widget-view+json": {
       "model_id": "df6bac0341974e4889d9ab1acad51435",
       "version_major": 2,
       "version_minor": 0
      },
      "image/png": "[encoded data removed]",
      "text/html": [
       "\n",
       "            <div style=\"display: inline-block;\">\n",
       "                <div class=\"jupyter-widgets widget-label\" style=\"text-align: center;\">\n",
       "                    Figure\n",
       "                </div>\n",
       "                <img src='data:image/png;base64,iVBORw0KGgoAAAANSUhEUgAAAbAAAAEgCAYAAADVKCZpAAAAOXRFWHRTb2Z0d2FyZQBNYXRwbG90bGliIHZlcnNpb24zLjUuMiwgaHR0cHM6Ly9tYXRwbG90bGliLm9yZy8qNh9FAAAACXBIWXMAAAsTAAALEwEAmpwYAAAEV0lEQVR4nO3VQQ0AIBDAMMC/58MDH7KkVbDf9szMAoCY8zsAAF4YGABJBgZAkoEBkGRgACQZGABJBgZAkoEBkGRgACQZGABJBgZAkoEBkGRgACQZGABJBgZAkoEBkGRgACQZGABJBgZAkoEBkGRgACQZGABJBgZAkoEBkGRgACQZGABJBgZAkoEBkGRgACQZGABJBgZAkoEBkGRgACQZGABJBgZAkoEBkGRgACQZGABJBgZAkoEBkGRgACQZGABJBgZAkoEBkGRgACQZGABJBgZAkoEBkGRgACQZGABJBgZAkoEBkGRgACQZGABJBgZAkoEBkGRgACQZGABJBgZAkoEBkGRgACQZGABJBgZAkoEBkGRgACQZGABJBgZAkoEBkGRgACQZGABJBgZAkoEBkGRgACQZGABJBgZAkoEBkGRgACQZGABJBgZAkoEBkGRgACQZGABJBgZAkoEBkGRgACQZGABJBgZAkoEBkGRgACQZGABJBgZAkoEBkGRgACQZGABJBgZAkoEBkGRgACQZGABJBgZAkoEBkGRgACQZGABJBgZAkoEBkGRgACQZGABJBgZAkoEBkGRgACQZGABJBgZAkoEBkGRgACQZGABJBgZAkoEBkGRgACQZGABJBgZAkoEBkGRgACQZGABJBgZAkoEBkGRgACQZGABJBgZAkoEBkGRgACQZGABJBgZAkoEBkGRgACQZGABJBgZAkoEBkGRgACQZGABJBgZAkoEBkGRgACQZGABJBgZAkoEBkGRgACQZGABJBgZAkoEBkGRgACQZGABJBgZAkoEBkGRgACQZGABJBgZAkoEBkGRgACQZGABJBgZAkoEBkGRgACQZGABJBgZAkoEBkGRgACQZGABJBgZAkoEBkGRgACQZGABJBgZAkoEBkGRgACQZGABJBgZAkoEBkGRgACQZGABJBgZAkoEBkGRgACQZGABJBgZAkoEBkGRgACQZGABJBgZAkoEBkGRgACQZGABJBgZAkoEBkGRgACQZGABJBgZAkoEBkGRgACQZGABJBgZAkoEBkGRgACQZGABJBgZAkoEBkGRgACQZGABJBgZAkoEBkGRgACQZGABJBgZAkoEBkGRgACQZGABJBgZAkoEBkGRgACQZGABJBgZAkoEBkGRgACQZGABJBgZAkoEBkGRgACQZGABJBgZAkoEBkGRgACQZGABJBgZAkoEBkGRgACQZGABJBgZAkoEBkGRgACQZGABJBgZAkoEBkGRgACQZGABJBgZAkoEBkGRgACQZGABJBgZAkoEBkGRgACQZGABJBgZAkoEBkGRgACQZGABJBgZAkoEBkGRgACQZGABJBgZAkoEBkGRgACQZGABJBgZAkoEBkGRgACQZGABJBgZAkoEBkGRgACQZGABJBgZAkoEBkGRgACQZGABJBgZAkoEBkGRgACQZGABJBgZAkoEBkGRgACQZGABJBgZAkoEBkGRgACQZGABJBgZA0gU1jgY8wkDjcAAAAABJRU5ErkJggg==' width=432.0/>\n",
       "            </div>\n",
       "        "
      ],
      "text/plain": [
       "Canvas(toolbar=Toolbar(toolitems=[('Home', 'Reset original view', 'home', 'home'), ('Back', 'Back to previous …"
      ]
     },
     "metadata": {},
     "output_type": "display_data"
    }
   ],
   "source": [
    "plt.figure(facecolor='w', edgecolor='w')\n",
    "plot_sfs(sbs.get_metric_dict())\n",
    "plt.title('Sequential Backward Selection')\n",
    "plt.show()"
   ]
  },
  {
   "cell_type": "markdown",
   "id": "50cfa99d",
   "metadata": {},
   "source": [
    "## Recursive Feature Elimination"
   ]
  },
  {
   "cell_type": "markdown",
   "id": "73c39213",
   "metadata": {},
   "source": [
    "So far you've tried two different sequential feature selection methods. Let's try one more: recursive feature elimination. First you'll standardize the data, then you'll fit the RFE model and inspect the results.\n",
    "\n",
    "At a later step of this project, you'll need to be able to access feature names. Enter the code `features = X.columns` for use later."
   ]
  },
  {
   "cell_type": "code",
   "execution_count": 196,
   "id": "d55fb29a",
   "metadata": {},
   "outputs": [
    {
     "data": {
      "text/plain": [
       "Index(['Gender', 'Age', 'family_history_with_overweight', 'FAVC', 'FCVC',\n",
       "       'NCP', 'CAEC', 'SMOKE', 'CH2O', 'SCC', 'FAF', 'TUE', 'CALC',\n",
       "       'Automobile', 'Bike', 'Motorbike', 'Public_Transportation', 'Walking'],\n",
       "      dtype='object')"
      ]
     },
     "execution_count": 196,
     "metadata": {},
     "output_type": "execute_result"
    }
   ],
   "source": [
    "Features = X.columns\n",
    "Features"
   ]
  },
  {
   "cell_type": "markdown",
   "id": "d441b296",
   "metadata": {},
   "source": [
    "### Standardize the data\n",
    "\n",
    "Before doing applying recursive feature elimination it is necessary to standardize the data. Standardize `X` and save it as a DataFrame by creating a `StandardScaler()` object and using the `.fit_transform()` method."
   ]
  },
  {
   "cell_type": "code",
   "execution_count": 197,
   "id": "5d5cb7f8",
   "metadata": {},
   "outputs": [],
   "source": [
    "X = StandardScaler().fit_transform(X)"
   ]
  },
  {
   "cell_type": "markdown",
   "id": "a0b045cc",
   "metadata": {},
   "source": [
    "### Recursive feature elimination model\n",
    "\n",
    "Create an `RFE()` object that selects `8` features. Be sure to set the `estimator` parameter to `lr`."
   ]
  },
  {
   "cell_type": "code",
   "execution_count": 198,
   "id": "b74b41b4",
   "metadata": {},
   "outputs": [],
   "source": [
    "rfe = RFE(estimator=lr,n_features_to_select=5)"
   ]
  },
  {
   "cell_type": "markdown",
   "id": "45278913",
   "metadata": {},
   "source": [
    "### Fit the model\n",
    "\n",
    "Fit the recursive feature elimination model to `X` and `y`."
   ]
  },
  {
   "cell_type": "code",
   "execution_count": 199,
   "id": "131a5de6",
   "metadata": {},
   "outputs": [
    {
     "name": "stdout",
     "output_type": "stream",
     "text": [
      "[False  True  True  True False False  True False False False False False\n",
      " False  True False False False False]\n"
     ]
    }
   ],
   "source": [
    "rfe.fit(X,y);\n",
    "print(rfe.support_)"
   ]
  },
  {
   "cell_type": "markdown",
   "id": "fba80cc0",
   "metadata": {},
   "source": [
    "### Inspect chosen features\n",
    "\n",
    "Now that you've fit the RFE model you can evaluate the results. Create a list of chosen feature names and call it `rfe_features`. You can use a list comprehension and filter the features in `zip(features, rfe.support_)` based on whether their support is `True` (meaning the model kept them) or `False` (meaning the model eliminated them)."
   ]
  },
  {
   "cell_type": "code",
   "execution_count": 200,
   "id": "77a4aeda",
   "metadata": {},
   "outputs": [
    {
     "data": {
      "text/plain": [
       "['Age', 'family_history_with_overweight', 'FAVC', 'CAEC', 'Automobile']"
      ]
     },
     "execution_count": 200,
     "metadata": {},
     "output_type": "execute_result"
    }
   ],
   "source": [
    "rfe_features = [f for(f,support) in zip(Features,rfe.support_) if support==True]\n",
    "rfe_features"
   ]
  },
  {
   "cell_type": "markdown",
   "id": "f922aa1d",
   "metadata": {},
   "source": [
    "### Model accuracy\n",
    "\n",
    "Use the `.score()` method on `rfe` and print the model accuracy after doing recursive feature elimination. How does this compare to the model's accuracy on all available features?"
   ]
  },
  {
   "cell_type": "code",
   "execution_count": 201,
   "id": "e6b5becf",
   "metadata": {},
   "outputs": [
    {
     "name": "stdout",
     "output_type": "stream",
     "text": [
      "0.7517764092846992\n"
     ]
    }
   ],
   "source": [
    "print(rfe.score(X,y))"
   ]
  },
  {
   "cell_type": "code",
   "execution_count": 202,
   "id": "137a4736",
   "metadata": {},
   "outputs": [
    {
     "name": "stdout",
     "output_type": "stream",
     "text": [
      "{1: 0.635243960208432, 2: 0.6882993841781146, 3: 0.7404073898626243, 4: 0.7404073898626243, 5: 0.7517764092846992, 6: 0.757934628138323, 7: 0.7626717195641876, 8: 0.7678825201326386, 9: 0.7621980104216012, 10: 0.7664613927048792, 11: 0.7659876835622927, 12: 0.7669351018474656, 13: 0.7664613927048792, 14: 0.7664613927048792, 15: 0.7659876835622927, 16: 0.7674088109900521, 17: 0.7678825201326386, 18: 0.7678825201326386}\n",
      "{1: ['family_history_with_overweight'], 2: ['family_history_with_overweight', 'FAVC'], 3: ['family_history_with_overweight', 'FAVC', 'CAEC'], 4: ['Age', 'family_history_with_overweight', 'FAVC', 'CAEC'], 5: ['Age', 'family_history_with_overweight', 'FAVC', 'CAEC', 'Automobile'], 6: ['Age', 'family_history_with_overweight', 'FAVC', 'CAEC', 'SCC', 'Automobile'], 7: ['Age', 'family_history_with_overweight', 'FAVC', 'FCVC', 'CAEC', 'SCC', 'Automobile'], 8: ['Age', 'family_history_with_overweight', 'FAVC', 'FCVC', 'CAEC', 'SCC', 'Automobile', 'Walking'], 9: ['Age', 'family_history_with_overweight', 'FAVC', 'FCVC', 'CAEC', 'SCC', 'FAF', 'Automobile', 'Walking'], 10: ['Age', 'family_history_with_overweight', 'FAVC', 'FCVC', 'CAEC', 'CH2O', 'SCC', 'FAF', 'Automobile', 'Walking'], 11: ['Age', 'family_history_with_overweight', 'FAVC', 'FCVC', 'CAEC', 'CH2O', 'SCC', 'FAF', 'TUE', 'Automobile', 'Walking'], 12: ['Age', 'family_history_with_overweight', 'FAVC', 'FCVC', 'CAEC', 'SMOKE', 'CH2O', 'SCC', 'FAF', 'TUE', 'Automobile', 'Walking'], 13: ['Gender', 'Age', 'family_history_with_overweight', 'FAVC', 'FCVC', 'CAEC', 'SMOKE', 'CH2O', 'SCC', 'FAF', 'TUE', 'Automobile', 'Walking'], 14: ['Gender', 'Age', 'family_history_with_overweight', 'FAVC', 'FCVC', 'CAEC', 'SMOKE', 'CH2O', 'SCC', 'FAF', 'TUE', 'Automobile', 'Public_Transportation', 'Walking'], 15: ['Gender', 'Age', 'family_history_with_overweight', 'FAVC', 'FCVC', 'CAEC', 'SMOKE', 'CH2O', 'SCC', 'FAF', 'TUE', 'Automobile', 'Motorbike', 'Public_Transportation', 'Walking'], 16: ['Gender', 'Age', 'family_history_with_overweight', 'FAVC', 'FCVC', 'NCP', 'CAEC', 'SMOKE', 'CH2O', 'SCC', 'FAF', 'TUE', 'Automobile', 'Motorbike', 'Public_Transportation', 'Walking'], 17: ['Gender', 'Age', 'family_history_with_overweight', 'FAVC', 'FCVC', 'NCP', 'CAEC', 'SMOKE', 'CH2O', 'SCC', 'FAF', 'TUE', 'CALC', 'Automobile', 'Motorbike', 'Public_Transportation', 'Walking'], 18: ['Gender', 'Age', 'family_history_with_overweight', 'FAVC', 'FCVC', 'NCP', 'CAEC', 'SMOKE', 'CH2O', 'SCC', 'FAF', 'TUE', 'CALC', 'Automobile', 'Bike', 'Motorbike', 'Public_Transportation', 'Walking']}\n"
     ]
    },
    {
     "data": {
      "application/vnd.jupyter.widget-view+json": {
       "model_id": "b66e77c345a140398410d7f422cde29d",
       "version_major": 2,
       "version_minor": 0
      },
      "image/png": "[encoded data removed]",
      "text/html": [
       "\n",
       "            <div style=\"display: inline-block;\">\n",
       "                <div class=\"jupyter-widgets widget-label\" style=\"text-align: center;\">\n",
       "                    Figure\n",
       "                </div>\n",
       "                <img src='data:image/png;base64,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' width=432.0/>\n",
       "            </div>\n",
       "        "
      ],
      "text/plain": [
       "Canvas(toolbar=Toolbar(toolitems=[('Home', 'Reset original view', 'home', 'home'), ('Back', 'Back to previous …"
      ]
     },
     "metadata": {},
     "output_type": "display_data"
    }
   ],
   "source": [
    "#Getting and plotting the accuracy of RFE over the range of all Features\n",
    "rfe_nfeature_score={}\n",
    "rfe_nfeature_feature = {}\n",
    "for i in range(1,len(Features)+1):\n",
    "#     print(i)\n",
    "    rfe = RFE(estimator=lr,n_features_to_select=i)\n",
    "    rfe.fit(X,y);\n",
    "    rfe_features = [f for(f,support) in zip(Features,rfe.support_) if support==True]\n",
    "    rfe_nfeature_score[i] = rfe.score(X,y)\n",
    "    rfe_nfeature_feature[i] = rfe_features\n",
    "    \n",
    "\n",
    "print(rfe_nfeature_score)\n",
    "print(rfe_nfeature_feature)\n",
    "\n",
    "plt.figure(facecolor='w', edgecolor='w')\n",
    "plt.plot(rfe_nfeature_score.keys(),rfe_nfeature_score.values(),marker='o',color='b')\n",
    "plt.xlabel('Number of Features')\n",
    "plt.ylabel('Performance')\n",
    "plt.title('Recursive Feature Elimination')\n",
    "plt.show()\n",
    "\n",
    "# fig = plt\n",
    "# fig.savefig('recursive.png',facecolor='w', edgecolor='w',transparent=False)"
   ]
  }
 ],
 "metadata": {
  "kernelspec": {
   "display_name": "Python 3 (ipykernel)",
   "language": "python",
   "name": "python3"
  },
  "language_info": {
   "codemirror_mode": {
    "name": "ipython",
    "version": 3
   },
   "file_extension": ".py",
   "mimetype": "text/x-python",
   "name": "python",
   "nbconvert_exporter": "python",
   "pygments_lexer": "ipython3",
   "version": "3.10.5"
  }
 },
 "nbformat": 4,
 "nbformat_minor": 5
}

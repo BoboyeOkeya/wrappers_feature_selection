{
 "cells": [
  {
   "cell_type": "markdown",
   "id": "db690c0b",
   "metadata": {},
   "source": [
    "## Wrapper Methods\n",
    "\n",
    "In this project, you'll analyze data from a survey conducted by Fabio Mendoza Palechor and Alexis de la Hoz Manotas that asked people about their eating habits and weight. The data was obtained from the [UCI Machine Learning Repository](https://archive.ics.uci.edu/ml/datasets/Estimation+of+obesity+levels+based+on+eating+habits+and+physical+condition+). Categorical variables were changed to numerical ones in order to facilitate analysis.\n",
    "\n",
    "First, you'll fit a logistic regression model to try to predict whether survey respondents are obese based on their answers to questions in the survey. After that, you'll use three different wrapper methods to choose a smaller feature subset.\n",
    "\n",
    "You'll use sequential forward selection, sequential backward floating selection, and recursive feature elimination. After implementing each wrapper method, you'll evaluate the model accuracy on the resulting smaller feature subsets and compare that with the model accuracy using all available features."
   ]
  },
  {
   "cell_type": "code",
   "execution_count": 317,
   "id": "522b95f9",
   "metadata": {},
   "outputs": [],
   "source": [
    "# Import libraries\n",
    "import pandas as pd\n",
    "from sklearn.linear_model import LogisticRegression\n",
    "from mlxtend.feature_selection import SequentialFeatureSelector as SFS\n",
    "from mlxtend.plotting import plot_sequential_feature_selection as plot_sfs\n",
    "import matplotlib.pyplot as plt\n",
    "from sklearn.preprocessing import StandardScaler\n",
    "from sklearn.feature_selection import RFE\n",
    "import numpy as np \n",
    "import warnings\n",
    "warnings.filterwarnings('ignore')\n",
    "\n",
    "from sklearn.ensemble import RandomForestRegressor\n",
    "from boruta import BorutaPy\n",
    "%matplotlib inline\n",
    "%matplotlib widget"
   ]
  },
  {
   "cell_type": "code",
   "execution_count": null,
   "id": "16760785",
   "metadata": {},
   "outputs": [],
   "source": []
  },
  {
   "cell_type": "markdown",
   "id": "6334c192",
   "metadata": {},
   "source": [
    "## Evaluating a Logistic Regression Model\n",
    "\n",
    "The data set `obesity` contains 18 predictor variables. Here's a brief description of them.\n",
    "\n",
    "* `Gender` is `1` if a respondent is male and `0` if a respondent is female.\n",
    "* `Age` is a respondent's age in years.\n",
    "* `family_history_with_overweight` is `1` if a respondent has family member who is or was overweight, `0` if not.\n",
    "* `FAVC` is `1` if a respondent eats high caloric food frequently, `0` if not.\n",
    "* `FCVC` is `1` if a respondent usually eats vegetables in their meals, `0` if not.\n",
    "* `NCP` represents how many main meals a respondent has daily (`0` for 1-2 meals, `1` for 3 meals, and `2` for more than 3 meals).\n",
    "* `CAEC` represents how much food a respondent eats between meals on a scale of `0` to `3`.\n",
    "* `SMOKE` is `1` if a respondent smokes, `0` if not.\n",
    "* `CH2O` represents how much water a respondent drinks on a scale of `0` to `2`.\n",
    "* `SCC` is `1` if a respondent monitors their caloric intake, `0` if not.\n",
    "* `FAF` represents how much physical activity a respondent does on a scale of `0` to `3`.\n",
    "* `TUE` represents how much time a respondent spends looking at devices with screens on a scale of `0` to `2`.\n",
    "* `CALC` represents how often a respondent drinks alcohol on a scale of `0` to `3`.\n",
    "* `Automobile`, `Bike`, `Motorbike`, `Public_Transportation`, and `Walking` indicate a respondent's primary mode of transportation. Their primary mode of transportation is indicated by a `1` and the other columns will contain a `0`.\n",
    "\n",
    "The outcome variable, `NObeyesdad`, is a `1` if a patient is obese and a `0` if not.\n",
    "\n",
    "Use the `.head()` method and inspect the data."
   ]
  },
  {
   "cell_type": "code",
   "execution_count": 318,
   "id": "7212b427",
   "metadata": {},
   "outputs": [
    {
     "data": {
      "text/html": [
       "<div>\n",
       "<style scoped>\n",
       "    .dataframe tbody tr th:only-of-type {\n",
       "        vertical-align: middle;\n",
       "    }\n",
       "\n",
       "    .dataframe tbody tr th {\n",
       "        vertical-align: top;\n",
       "    }\n",
       "\n",
       "    .dataframe thead th {\n",
       "        text-align: right;\n",
       "    }\n",
       "</style>\n",
       "<table border=\"1\" class=\"dataframe\">\n",
       "  <thead>\n",
       "    <tr style=\"text-align: right;\">\n",
       "      <th></th>\n",
       "      <th>Gender</th>\n",
       "      <th>Age</th>\n",
       "      <th>family_history_with_overweight</th>\n",
       "      <th>FAVC</th>\n",
       "      <th>FCVC</th>\n",
       "      <th>NCP</th>\n",
       "      <th>CAEC</th>\n",
       "      <th>SMOKE</th>\n",
       "      <th>CH2O</th>\n",
       "      <th>SCC</th>\n",
       "      <th>FAF</th>\n",
       "      <th>TUE</th>\n",
       "      <th>CALC</th>\n",
       "      <th>Automobile</th>\n",
       "      <th>Bike</th>\n",
       "      <th>Motorbike</th>\n",
       "      <th>Public_Transportation</th>\n",
       "      <th>Walking</th>\n",
       "      <th>NObeyesdad</th>\n",
       "    </tr>\n",
       "  </thead>\n",
       "  <tbody>\n",
       "    <tr>\n",
       "      <th>0</th>\n",
       "      <td>0</td>\n",
       "      <td>21.000000</td>\n",
       "      <td>1</td>\n",
       "      <td>0</td>\n",
       "      <td>2.0</td>\n",
       "      <td>3.0</td>\n",
       "      <td>1</td>\n",
       "      <td>0</td>\n",
       "      <td>2.000000</td>\n",
       "      <td>0</td>\n",
       "      <td>0.000000</td>\n",
       "      <td>1.000000</td>\n",
       "      <td>0</td>\n",
       "      <td>0</td>\n",
       "      <td>0</td>\n",
       "      <td>0</td>\n",
       "      <td>1</td>\n",
       "      <td>0</td>\n",
       "      <td>0</td>\n",
       "    </tr>\n",
       "    <tr>\n",
       "      <th>1</th>\n",
       "      <td>0</td>\n",
       "      <td>21.000000</td>\n",
       "      <td>1</td>\n",
       "      <td>0</td>\n",
       "      <td>3.0</td>\n",
       "      <td>3.0</td>\n",
       "      <td>1</td>\n",
       "      <td>1</td>\n",
       "      <td>3.000000</td>\n",
       "      <td>1</td>\n",
       "      <td>3.000000</td>\n",
       "      <td>0.000000</td>\n",
       "      <td>1</td>\n",
       "      <td>0</td>\n",
       "      <td>0</td>\n",
       "      <td>0</td>\n",
       "      <td>1</td>\n",
       "      <td>0</td>\n",
       "      <td>0</td>\n",
       "    </tr>\n",
       "    <tr>\n",
       "      <th>2</th>\n",
       "      <td>1</td>\n",
       "      <td>23.000000</td>\n",
       "      <td>1</td>\n",
       "      <td>0</td>\n",
       "      <td>2.0</td>\n",
       "      <td>3.0</td>\n",
       "      <td>1</td>\n",
       "      <td>0</td>\n",
       "      <td>2.000000</td>\n",
       "      <td>0</td>\n",
       "      <td>2.000000</td>\n",
       "      <td>1.000000</td>\n",
       "      <td>2</td>\n",
       "      <td>0</td>\n",
       "      <td>0</td>\n",
       "      <td>0</td>\n",
       "      <td>1</td>\n",
       "      <td>0</td>\n",
       "      <td>0</td>\n",
       "    </tr>\n",
       "    <tr>\n",
       "      <th>3</th>\n",
       "      <td>1</td>\n",
       "      <td>27.000000</td>\n",
       "      <td>0</td>\n",
       "      <td>0</td>\n",
       "      <td>3.0</td>\n",
       "      <td>3.0</td>\n",
       "      <td>1</td>\n",
       "      <td>0</td>\n",
       "      <td>2.000000</td>\n",
       "      <td>0</td>\n",
       "      <td>2.000000</td>\n",
       "      <td>0.000000</td>\n",
       "      <td>2</td>\n",
       "      <td>0</td>\n",
       "      <td>0</td>\n",
       "      <td>0</td>\n",
       "      <td>0</td>\n",
       "      <td>1</td>\n",
       "      <td>0</td>\n",
       "    </tr>\n",
       "    <tr>\n",
       "      <th>4</th>\n",
       "      <td>1</td>\n",
       "      <td>22.000000</td>\n",
       "      <td>0</td>\n",
       "      <td>0</td>\n",
       "      <td>2.0</td>\n",
       "      <td>1.0</td>\n",
       "      <td>1</td>\n",
       "      <td>0</td>\n",
       "      <td>2.000000</td>\n",
       "      <td>0</td>\n",
       "      <td>0.000000</td>\n",
       "      <td>0.000000</td>\n",
       "      <td>1</td>\n",
       "      <td>0</td>\n",
       "      <td>0</td>\n",
       "      <td>0</td>\n",
       "      <td>1</td>\n",
       "      <td>0</td>\n",
       "      <td>0</td>\n",
       "    </tr>\n",
       "    <tr>\n",
       "      <th>...</th>\n",
       "      <td>...</td>\n",
       "      <td>...</td>\n",
       "      <td>...</td>\n",
       "      <td>...</td>\n",
       "      <td>...</td>\n",
       "      <td>...</td>\n",
       "      <td>...</td>\n",
       "      <td>...</td>\n",
       "      <td>...</td>\n",
       "      <td>...</td>\n",
       "      <td>...</td>\n",
       "      <td>...</td>\n",
       "      <td>...</td>\n",
       "      <td>...</td>\n",
       "      <td>...</td>\n",
       "      <td>...</td>\n",
       "      <td>...</td>\n",
       "      <td>...</td>\n",
       "      <td>...</td>\n",
       "    </tr>\n",
       "    <tr>\n",
       "      <th>2096</th>\n",
       "      <td>0</td>\n",
       "      <td>25.955014</td>\n",
       "      <td>1</td>\n",
       "      <td>1</td>\n",
       "      <td>3.0</td>\n",
       "      <td>3.0</td>\n",
       "      <td>1</td>\n",
       "      <td>0</td>\n",
       "      <td>2.094901</td>\n",
       "      <td>0</td>\n",
       "      <td>0.070890</td>\n",
       "      <td>0.599441</td>\n",
       "      <td>1</td>\n",
       "      <td>0</td>\n",
       "      <td>0</td>\n",
       "      <td>0</td>\n",
       "      <td>1</td>\n",
       "      <td>0</td>\n",
       "      <td>1</td>\n",
       "    </tr>\n",
       "    <tr>\n",
       "      <th>2097</th>\n",
       "      <td>0</td>\n",
       "      <td>25.996716</td>\n",
       "      <td>1</td>\n",
       "      <td>1</td>\n",
       "      <td>3.0</td>\n",
       "      <td>3.0</td>\n",
       "      <td>1</td>\n",
       "      <td>0</td>\n",
       "      <td>2.347322</td>\n",
       "      <td>0</td>\n",
       "      <td>0.008013</td>\n",
       "      <td>0.503896</td>\n",
       "      <td>1</td>\n",
       "      <td>0</td>\n",
       "      <td>0</td>\n",
       "      <td>0</td>\n",
       "      <td>1</td>\n",
       "      <td>0</td>\n",
       "      <td>1</td>\n",
       "    </tr>\n",
       "    <tr>\n",
       "      <th>2098</th>\n",
       "      <td>0</td>\n",
       "      <td>25.992348</td>\n",
       "      <td>1</td>\n",
       "      <td>1</td>\n",
       "      <td>3.0</td>\n",
       "      <td>3.0</td>\n",
       "      <td>1</td>\n",
       "      <td>0</td>\n",
       "      <td>2.331123</td>\n",
       "      <td>0</td>\n",
       "      <td>0.063383</td>\n",
       "      <td>0.561661</td>\n",
       "      <td>1</td>\n",
       "      <td>0</td>\n",
       "      <td>0</td>\n",
       "      <td>0</td>\n",
       "      <td>1</td>\n",
       "      <td>0</td>\n",
       "      <td>1</td>\n",
       "    </tr>\n",
       "    <tr>\n",
       "      <th>2099</th>\n",
       "      <td>0</td>\n",
       "      <td>25.974446</td>\n",
       "      <td>1</td>\n",
       "      <td>1</td>\n",
       "      <td>3.0</td>\n",
       "      <td>3.0</td>\n",
       "      <td>1</td>\n",
       "      <td>0</td>\n",
       "      <td>1.757105</td>\n",
       "      <td>0</td>\n",
       "      <td>0.085119</td>\n",
       "      <td>0.465444</td>\n",
       "      <td>1</td>\n",
       "      <td>0</td>\n",
       "      <td>0</td>\n",
       "      <td>0</td>\n",
       "      <td>1</td>\n",
       "      <td>0</td>\n",
       "      <td>1</td>\n",
       "    </tr>\n",
       "    <tr>\n",
       "      <th>2100</th>\n",
       "      <td>0</td>\n",
       "      <td>25.777565</td>\n",
       "      <td>1</td>\n",
       "      <td>1</td>\n",
       "      <td>3.0</td>\n",
       "      <td>3.0</td>\n",
       "      <td>1</td>\n",
       "      <td>0</td>\n",
       "      <td>2.506631</td>\n",
       "      <td>0</td>\n",
       "      <td>0.025787</td>\n",
       "      <td>0.484165</td>\n",
       "      <td>1</td>\n",
       "      <td>0</td>\n",
       "      <td>0</td>\n",
       "      <td>0</td>\n",
       "      <td>1</td>\n",
       "      <td>0</td>\n",
       "      <td>1</td>\n",
       "    </tr>\n",
       "  </tbody>\n",
       "</table>\n",
       "<p>2101 rows × 19 columns</p>\n",
       "</div>"
      ],
      "text/plain": [
       "      Gender        Age  family_history_with_overweight  FAVC  FCVC  NCP  \\\n",
       "0          0  21.000000                               1     0   2.0  3.0   \n",
       "1          0  21.000000                               1     0   3.0  3.0   \n",
       "2          1  23.000000                               1     0   2.0  3.0   \n",
       "3          1  27.000000                               0     0   3.0  3.0   \n",
       "4          1  22.000000                               0     0   2.0  1.0   \n",
       "...      ...        ...                             ...   ...   ...  ...   \n",
       "2096       0  25.955014                               1     1   3.0  3.0   \n",
       "2097       0  25.996716                               1     1   3.0  3.0   \n",
       "2098       0  25.992348                               1     1   3.0  3.0   \n",
       "2099       0  25.974446                               1     1   3.0  3.0   \n",
       "2100       0  25.777565                               1     1   3.0  3.0   \n",
       "\n",
       "      CAEC  SMOKE      CH2O  SCC       FAF       TUE  CALC  Automobile  Bike  \\\n",
       "0        1      0  2.000000    0  0.000000  1.000000     0           0     0   \n",
       "1        1      1  3.000000    1  3.000000  0.000000     1           0     0   \n",
       "2        1      0  2.000000    0  2.000000  1.000000     2           0     0   \n",
       "3        1      0  2.000000    0  2.000000  0.000000     2           0     0   \n",
       "4        1      0  2.000000    0  0.000000  0.000000     1           0     0   \n",
       "...    ...    ...       ...  ...       ...       ...   ...         ...   ...   \n",
       "2096     1      0  2.094901    0  0.070890  0.599441     1           0     0   \n",
       "2097     1      0  2.347322    0  0.008013  0.503896     1           0     0   \n",
       "2098     1      0  2.331123    0  0.063383  0.561661     1           0     0   \n",
       "2099     1      0  1.757105    0  0.085119  0.465444     1           0     0   \n",
       "2100     1      0  2.506631    0  0.025787  0.484165     1           0     0   \n",
       "\n",
       "      Motorbike  Public_Transportation  Walking  NObeyesdad  \n",
       "0             0                      1        0           0  \n",
       "1             0                      1        0           0  \n",
       "2             0                      1        0           0  \n",
       "3             0                      0        1           0  \n",
       "4             0                      1        0           0  \n",
       "...         ...                    ...      ...         ...  \n",
       "2096          0                      1        0           1  \n",
       "2097          0                      1        0           1  \n",
       "2098          0                      1        0           1  \n",
       "2099          0                      1        0           1  \n",
       "2100          0                      1        0           1  \n",
       "\n",
       "[2101 rows x 19 columns]"
      ]
     },
     "execution_count": 318,
     "metadata": {},
     "output_type": "execute_result"
    }
   ],
   "source": [
    "# https://archive.ics.uci.edu/ml/datasets/Estimation+of+obesity+levels+based+on+eating+habits+and+physical+condition+\n",
    "\n",
    "# Load the data\n",
    "obesity = pd.read_csv(\"obesity.csv\")\n",
    "\n",
    "# Inspect the data\n",
    "obesity.head(-10)"
   ]
  },
  {
   "cell_type": "markdown",
   "id": "2a57061f",
   "metadata": {},
   "source": [
    "### Split the data into `X` and `y`\n",
    "\n",
    "In order to use a linear regression model, you'll need to split the data into two parts: the predictor variables and an outcome variable. Do this by splitting the data into a DataFrame of predictor variables called `X` and a Series of outcome variables `y`."
   ]
  },
  {
   "cell_type": "code",
   "execution_count": 319,
   "id": "32f5fb07",
   "metadata": {},
   "outputs": [
    {
     "name": "stdout",
     "output_type": "stream",
     "text": [
      "<class 'pandas.core.frame.DataFrame'>\n",
      "RangeIndex: 2111 entries, 0 to 2110\n",
      "Data columns (total 18 columns):\n",
      " #   Column                          Non-Null Count  Dtype  \n",
      "---  ------                          --------------  -----  \n",
      " 0   Gender                          2111 non-null   int64  \n",
      " 1   Age                             2111 non-null   float64\n",
      " 2   family_history_with_overweight  2111 non-null   int64  \n",
      " 3   FAVC                            2111 non-null   int64  \n",
      " 4   FCVC                            2111 non-null   float64\n",
      " 5   NCP                             2111 non-null   float64\n",
      " 6   CAEC                            2111 non-null   int64  \n",
      " 7   SMOKE                           2111 non-null   int64  \n",
      " 8   CH2O                            2111 non-null   float64\n",
      " 9   SCC                             2111 non-null   int64  \n",
      " 10  FAF                             2111 non-null   float64\n",
      " 11  TUE                             2111 non-null   float64\n",
      " 12  CALC                            2111 non-null   int64  \n",
      " 13  Automobile                      2111 non-null   int64  \n",
      " 14  Bike                            2111 non-null   int64  \n",
      " 15  Motorbike                       2111 non-null   int64  \n",
      " 16  Public_Transportation           2111 non-null   int64  \n",
      " 17  Walking                         2111 non-null   int64  \n",
      "dtypes: float64(6), int64(12)\n",
      "memory usage: 297.0 KB\n",
      "None\n"
     ]
    }
   ],
   "source": [
    "y= obesity['NObeyesdad']\n",
    "X = obesity.drop(columns=['NObeyesdad'])\n",
    "print(X.info())"
   ]
  },
  {
   "cell_type": "markdown",
   "id": "7064c0ad",
   "metadata": {},
   "source": [
    "### Logistic regression model\n",
    "\n",
    "Create a logistic regression model called `lr`. Include the parameter `max_iter=1000` to make sure that the model will converge when you try to fit it."
   ]
  },
  {
   "cell_type": "code",
   "execution_count": 320,
   "id": "5691193c",
   "metadata": {},
   "outputs": [],
   "source": [
    "lr = LogisticRegression(max_iter=1000)"
   ]
  },
  {
   "cell_type": "markdown",
   "id": "abde12f3",
   "metadata": {},
   "source": [
    "### Fit the model\n",
    "\n",
    "Use the `.fit()` method on `lr` to fit the model to `X` and `y`."
   ]
  },
  {
   "cell_type": "code",
   "execution_count": 321,
   "id": "6563740e",
   "metadata": {},
   "outputs": [],
   "source": [
    "lr.fit(X,y);"
   ]
  },
  {
   "cell_type": "markdown",
   "id": "90597456",
   "metadata": {},
   "source": [
    "### Model accuracy\n",
    "\n",
    "A model's _accuracy_ is the proportion of classes that the model correctly predicts. is Compute and print the accuracy of `lr` by using the `.score()` method. What percentage of respondents did the model correctly predict as being either obese or not obese? You may want to write this number down somewhere so that you can refer to it during future tasks."
   ]
  },
  {
   "cell_type": "code",
   "execution_count": 322,
   "id": "dfac9ffa",
   "metadata": {},
   "outputs": [
    {
     "name": "stdout",
     "output_type": "stream",
     "text": [
      "The logistic model accurately predicted 76.599% of respondents as obese\n"
     ]
    }
   ],
   "source": [
    "print(f'The logistic model accurately predicted {round(100*lr.score(X,y),3)}% of respondents as obese')\n",
    "org_score = lr.score(X,y)"
   ]
  },
  {
   "cell_type": "markdown",
   "id": "eb0031b5",
   "metadata": {},
   "source": [
    "## Sequential Forward Selection\n",
    "\n",
    "Now that you've created a logistic regression model and evaluated its performance, you're ready to do some feature selection. \n",
    "\n",
    "Create a sequential forward selection model called `sfs`. \n",
    "* Be sure to set the `estimator` parameter to `lr` and set the `forward` and `floating` parameters to the appropriate values. \n",
    "* Also use the parameters `k_features=9`, `scoring='accuracy'`, and `cv=0`."
   ]
  },
  {
   "cell_type": "code",
   "execution_count": 323,
   "id": "49500d6c",
   "metadata": {},
   "outputs": [],
   "source": [
    "sfs = SFS(estimator=lr,k_features=9,forward=True,floating=False,scoring='accuracy',cv=0)"
   ]
  },
  {
   "cell_type": "markdown",
   "id": "9c280706",
   "metadata": {},
   "source": [
    "### Fit the model\n",
    "\n",
    "Use the `.fit()` method on `sfs` to fit the model to `X` and `y`. This step will take some time (not more than a minute) to run."
   ]
  },
  {
   "cell_type": "code",
   "execution_count": 324,
   "id": "fc02c110",
   "metadata": {},
   "outputs": [],
   "source": [
    "sfs.fit(X,y);"
   ]
  },
  {
   "cell_type": "markdown",
   "id": "af191b18",
   "metadata": {},
   "source": [
    "### Inspect the results\n",
    "\n",
    "Now that you've run the sequential forward selection algorithm on the logistic regression model with `X` and `y` you can see what features were chosen and check the model accuracy on the smaller feature set. Print `sfs.subsets_[9]` to inspect the results of sequential forward selection."
   ]
  },
  {
   "cell_type": "code",
   "execution_count": 325,
   "id": "12f6bc9e",
   "metadata": {},
   "outputs": [
    {
     "name": "stdout",
     "output_type": "stream",
     "text": [
      "{'feature_idx': (0, 1, 2, 3, 6, 9, 10, 14, 17), 'cv_scores': array([0.78351492]), 'avg_score': 0.7835149218379914, 'feature_names': ('Gender', 'Age', 'family_history_with_overweight', 'FAVC', 'CAEC', 'SCC', 'FAF', 'Bike', 'Walking')}\n"
     ]
    }
   ],
   "source": [
    "print(sfs.subsets_[9])"
   ]
  },
  {
   "cell_type": "markdown",
   "id": "e506cb73",
   "metadata": {},
   "source": [
    "### Chosen features and model accuracy\n",
    "\n",
    "Use the dictionary `sfs.subsets_[9]` to print a tuple of chosen feature names. Then use it to print the accuracy of the model after doing sequential forward selection. How does this compare to the model's accuracy on all available features?"
   ]
  },
  {
   "cell_type": "code",
   "execution_count": 326,
   "id": "c1ecc774",
   "metadata": {},
   "outputs": [
    {
     "name": "stdout",
     "output_type": "stream",
     "text": [
      "('Gender', 'Age', 'family_history_with_overweight', 'FAVC', 'CAEC', 'SCC', 'FAF', 'Bike', 'Walking')\n",
      "0.7835149218379914\n",
      "The sequential forward selection selected the features that increased the linear regression's accuracy from 76.6% to 78.35%\n"
     ]
    }
   ],
   "source": [
    "print(sfs.subsets_[9]['feature_names'])\n",
    "sfs_score = sfs.subsets_[9]['avg_score']\n",
    "print(sfs_score)\n",
    "\n",
    "print(f'The sequential forward selection selected the features that increased the linear regression\\'s accuracy from {round(100*lr.score(X,y),2)}% to {round(100*sfs_score,2)}%')     "
   ]
  },
  {
   "cell_type": "markdown",
   "id": "30b3d8da",
   "metadata": {},
   "source": [
    "### Visualize model accuracy\n",
    "\n",
    "It can be helpful to visualize the results of sequential forward selection and see how accuracy is affected as each feature is added. Use the code `plot_sfs(sfs.get_metric_dict())` to plot the model accuracy as a function of the number of features used. Make sure to show your plot as well."
   ]
  },
  {
   "cell_type": "code",
   "execution_count": 327,
   "id": "7a489e6d",
   "metadata": {
    "scrolled": true
   },
   "outputs": [
    {
     "name": "stdout",
     "output_type": "stream",
     "text": [
      "1 0.635243960208432\n",
      "2 0.6987209853150166\n",
      "3 0.7404073898626243\n",
      "4 0.7479867361440076\n",
      "5 0.7565135007105637\n",
      "6 0.7693036475603979\n",
      "7 0.7820937944102321\n",
      "8 0.7835149218379914\n",
      "9 0.7835149218379914\n"
     ]
    },
    {
     "data": {
      "application/vnd.jupyter.widget-view+json": {
       "model_id": "171f6e8d661f4b15b7a405ae7cb0ca30",
       "version_major": 2,
       "version_minor": 0
      },
      "image/png": "[encoded data removed]",
      "text/html": [
       "\n",
       "            <div style=\"display: inline-block;\">\n",
       "                <div class=\"jupyter-widgets widget-label\" style=\"text-align: center;\">\n",
       "                    Figure\n",
       "                </div>\n",
       "                <img src='data:image/png;base64,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' width=432.0/>\n",
       "            </div>\n",
       "        "
      ],
      "text/plain": [
       "Canvas(toolbar=Toolbar(toolitems=[('Home', 'Reset original view', 'home', 'home'), ('Back', 'Back to previous …"
      ]
     },
     "metadata": {},
     "output_type": "display_data"
    }
   ],
   "source": [
    "feature_num = [] #stores the number of feature used for each iteration of the sfs algorithm\n",
    "score=[] #stores the score at each iteration\n",
    "\n",
    "for key,value in sfs.get_metric_dict().items():\n",
    "    print(key,value['avg_score'])\n",
    "    feature_num.append(key)\n",
    "    score.append(value['avg_score'])\n",
    "\n",
    "plt.figure(facecolor='w', edgecolor='w')\n",
    "plt.plot(feature_num,score,marker='o',color='b')\n",
    "plt.xlabel('Number of Features')\n",
    "plt.ylabel('Performance')\n",
    "plt.title('Sequential Forward Selection')\n",
    "plt.show()\n",
    "   \n",
    "    \n",
    "    \n",
    "    \n",
    "    \n",
    "# plot_sfs(sfs.get_metric_dict())\n",
    "# plt.title('Sequential Forward Selection')\n",
    "# plt.show()\n",
    "\n",
    "fig = plt\n",
    "fig.savefig('sequential_forward.png',facecolor='w', edgecolor='w',transparent=False) #saves the plot"
   ]
  },
  {
   "cell_type": "markdown",
   "id": "fd205e6a",
   "metadata": {},
   "source": [
    "## Sequential Backward Selection"
   ]
  },
  {
   "cell_type": "markdown",
   "id": "f2c4e151",
   "metadata": {},
   "source": [
    "Sequential forward selection was able to find a feature subset that performed marginally better than the full feature set. Let's use a different sequential method and see how it compares.\n",
    "\n",
    "Create a sequential backward selection model called `sbs`. \n",
    "* Be sure to set the `estimator` parameter to `lr` and set the `forward` and `floating` parameters to the appropriate values.\n",
    "* Also use the parameters `k_features=7`, `scoring='accuracy'`, and `cv=0`."
   ]
  },
  {
   "cell_type": "code",
   "execution_count": 328,
   "id": "cea9b586",
   "metadata": {},
   "outputs": [],
   "source": [
    "sbs = SFS(estimator=lr,forward=False,floating=False,k_features=7,scoring='accuracy',cv=0)"
   ]
  },
  {
   "cell_type": "markdown",
   "id": "d0c956fb",
   "metadata": {},
   "source": [
    "### Fit the model\n",
    "\n",
    "Use the `.fit()` method on `sbs` to fit the model to `X` and `y`."
   ]
  },
  {
   "cell_type": "code",
   "execution_count": 329,
   "id": "523f6dee",
   "metadata": {},
   "outputs": [],
   "source": [
    "sbs.fit(X,y);"
   ]
  },
  {
   "cell_type": "markdown",
   "id": "bf4a2dbd",
   "metadata": {},
   "source": [
    "### Inspect the results\n",
    "\n",
    "Now that you've run the sequential backward selection algorithm on the logistic regression model with `X` and `y` you can see what features were chosen and check the model accuracy on the smaller feature set. Print `sbs.subsets_[7]` to inspect the results of sequential backward selection."
   ]
  },
  {
   "cell_type": "code",
   "execution_count": 330,
   "id": "b65e677d",
   "metadata": {},
   "outputs": [
    {
     "name": "stdout",
     "output_type": "stream",
     "text": [
      "{'feature_idx': (1, 2, 3, 4, 6, 9, 16), 'cv_scores': array([0.76409285]), 'avg_score': 0.7640928469919469, 'feature_names': ('Age', 'family_history_with_overweight', 'FAVC', 'FCVC', 'CAEC', 'SCC', 'Public_Transportation')}\n"
     ]
    }
   ],
   "source": [
    "print(sbs.subsets_[7])"
   ]
  },
  {
   "cell_type": "markdown",
   "id": "3bb61124",
   "metadata": {},
   "source": [
    "### Chosen features and model accuracy\n",
    "\n",
    "Use the dictionary `sbs.subsets_[7]` to print a tuple of chosen feature names. Then use it to print the accuracy of the model after doing sequential backward selection. How does this compare to the model's accuracy on all available features?"
   ]
  },
  {
   "cell_type": "code",
   "execution_count": 331,
   "id": "26c4933c",
   "metadata": {},
   "outputs": [
    {
     "name": "stdout",
     "output_type": "stream",
     "text": [
      "('Age', 'family_history_with_overweight', 'FAVC', 'FCVC', 'CAEC', 'SCC', 'Public_Transportation')\n",
      "0.7640928469919469\n",
      "0.7659876835622927\n"
     ]
    }
   ],
   "source": [
    "print(sbs.subsets_[7]['feature_names'])\n",
    "sbs_score = sbs.subsets_[7]['avg_score']\n",
    "print(sbs_score)\n",
    "print(sbs.subsets_[18]['avg_score'])"
   ]
  },
  {
   "cell_type": "markdown",
   "id": "c874a8ce",
   "metadata": {},
   "source": [
    "### Visualize model accuracy\n",
    "\n",
    "You can visualize the results of sequential backward floating selection just as you did with sequential forward selection. Use the code `plot_sfs(sbs.get_metric_dict())` to plot the model accuracy as a function of the number of features used."
   ]
  },
  {
   "cell_type": "code",
   "execution_count": 332,
   "id": "b24fdaa7",
   "metadata": {
    "scrolled": true
   },
   "outputs": [
    {
     "name": "stdout",
     "output_type": "stream",
     "text": [
      "18 0.7659876835622927\n",
      "17 0.7674088109900521\n",
      "16 0.7678825201326386\n",
      "15 0.7678825201326386\n",
      "14 0.7674088109900521\n",
      "13 0.7678825201326386\n",
      "12 0.7674088109900521\n",
      "11 0.7674088109900521\n",
      "10 0.7688299384178114\n",
      "9 0.7674088109900521\n",
      "8 0.7659876835622927\n",
      "7 0.7640928469919469\n"
     ]
    },
    {
     "data": {
      "application/vnd.jupyter.widget-view+json": {
       "model_id": "a202fd981d62457988007ab2daf8596d",
       "version_major": 2,
       "version_minor": 0
      },
      "image/png": "[encoded data removed]",
      "text/html": [
       "\n",
       "            <div style=\"display: inline-block;\">\n",
       "                <div class=\"jupyter-widgets widget-label\" style=\"text-align: center;\">\n",
       "                    Figure\n",
       "                </div>\n",
       "                <img src='data:image/png;base64,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' width=432.0/>\n",
       "            </div>\n",
       "        "
      ],
      "text/plain": [
       "Canvas(toolbar=Toolbar(toolitems=[('Home', 'Reset original view', 'home', 'home'), ('Back', 'Back to previous …"
      ]
     },
     "metadata": {},
     "output_type": "display_data"
    }
   ],
   "source": [
    "feature_num = [] #stores the number of feature used for each iteration of the sbs algorithm\n",
    "score=[] #stores the score at each iteration of the sbs algorthm\n",
    "\n",
    "for key,value in sbs.get_metric_dict().items():\n",
    "    print(key,value['avg_score'])\n",
    "    feature_num.append(key)\n",
    "    score.append(value['avg_score'])\n",
    "\n",
    "plt.figure(facecolor='w', edgecolor='w')\n",
    "plt.plot(feature_num,score,marker='o',color='b')\n",
    "plt.xlabel('Number of Features')\n",
    "plt.ylabel('Performance')\n",
    "plt.title('Sequential Backward Selection')\n",
    "plt.show()\n",
    "\n",
    "# plot_sfs(sbs.get_metric_dict())\n",
    "# plt.title('Sequential Backward Selection')\n",
    "# plt.show()\n",
    "\n",
    "\n",
    "fig = plt\n",
    "fig.savefig('sequential_backwards.png',facecolor='w', edgecolor='w',transparent=False) #saves the plot"
   ]
  },
  {
   "cell_type": "markdown",
   "id": "50cfa99d",
   "metadata": {},
   "source": [
    "## Recursive Feature Elimination"
   ]
  },
  {
   "cell_type": "markdown",
   "id": "73c39213",
   "metadata": {},
   "source": [
    "So far you've tried two different sequential feature selection methods. Let's try one more: recursive feature elimination. First you'll standardize the data, then you'll fit the RFE model and inspect the results.\n",
    "\n",
    "At a later step of this project, you'll need to be able to access feature names. Enter the code `features = X.columns` for use later."
   ]
  },
  {
   "cell_type": "code",
   "execution_count": 333,
   "id": "d55fb29a",
   "metadata": {},
   "outputs": [
    {
     "data": {
      "text/plain": [
       "Index(['Gender', 'Age', 'family_history_with_overweight', 'FAVC', 'FCVC',\n",
       "       'NCP', 'CAEC', 'SMOKE', 'CH2O', 'SCC', 'FAF', 'TUE', 'CALC',\n",
       "       'Automobile', 'Bike', 'Motorbike', 'Public_Transportation', 'Walking'],\n",
       "      dtype='object')"
      ]
     },
     "execution_count": 333,
     "metadata": {},
     "output_type": "execute_result"
    }
   ],
   "source": [
    "Features = X.columns\n",
    "Features"
   ]
  },
  {
   "cell_type": "markdown",
   "id": "d441b296",
   "metadata": {},
   "source": [
    "### Standardize the data\n",
    "\n",
    "Before doing applying recursive feature elimination it is necessary to standardize the data. Standardize `X` and save it as a DataFrame by creating a `StandardScaler()` object and using the `.fit_transform()` method."
   ]
  },
  {
   "cell_type": "code",
   "execution_count": 334,
   "id": "5d5cb7f8",
   "metadata": {},
   "outputs": [],
   "source": [
    "X = StandardScaler().fit_transform(X)"
   ]
  },
  {
   "cell_type": "markdown",
   "id": "a0b045cc",
   "metadata": {},
   "source": [
    "### Recursive feature elimination model\n",
    "\n",
    "Create an `RFE()` object that selects `8` features. Be sure to set the `estimator` parameter to `lr`."
   ]
  },
  {
   "cell_type": "code",
   "execution_count": 335,
   "id": "b74b41b4",
   "metadata": {},
   "outputs": [],
   "source": [
    "rfe = RFE(estimator=lr,n_features_to_select=5)"
   ]
  },
  {
   "cell_type": "markdown",
   "id": "45278913",
   "metadata": {},
   "source": [
    "### Fit the model\n",
    "\n",
    "Fit the recursive feature elimination model to `X` and `y`."
   ]
  },
  {
   "cell_type": "code",
   "execution_count": 336,
   "id": "131a5de6",
   "metadata": {},
   "outputs": [
    {
     "name": "stdout",
     "output_type": "stream",
     "text": [
      "[False  True  True  True False False  True False False False False False\n",
      " False  True False False False False]\n"
     ]
    }
   ],
   "source": [
    "rfe.fit(X,y);\n",
    "print(rfe.support_)"
   ]
  },
  {
   "cell_type": "markdown",
   "id": "fba80cc0",
   "metadata": {},
   "source": [
    "### Inspect chosen features\n",
    "\n",
    "Now that you've fit the RFE model you can evaluate the results. Create a list of chosen feature names and call it `rfe_features`. You can use a list comprehension and filter the features in `zip(features, rfe.support_)` based on whether their support is `True` (meaning the model kept them) or `False` (meaning the model eliminated them)."
   ]
  },
  {
   "cell_type": "code",
   "execution_count": 337,
   "id": "77a4aeda",
   "metadata": {},
   "outputs": [
    {
     "data": {
      "text/plain": [
       "['Age', 'family_history_with_overweight', 'FAVC', 'CAEC', 'Automobile']"
      ]
     },
     "execution_count": 337,
     "metadata": {},
     "output_type": "execute_result"
    }
   ],
   "source": [
    "rfe_features = [f for(f,support) in zip(Features,rfe.support_) if support==True]\n",
    "rfe_features"
   ]
  },
  {
   "cell_type": "markdown",
   "id": "f922aa1d",
   "metadata": {},
   "source": [
    "### Model accuracy\n",
    "\n",
    "Use the `.score()` method on `rfe` and print the model accuracy after doing recursive feature elimination. How does this compare to the model's accuracy on all available features?"
   ]
  },
  {
   "cell_type": "code",
   "execution_count": 338,
   "id": "e6b5becf",
   "metadata": {},
   "outputs": [
    {
     "name": "stdout",
     "output_type": "stream",
     "text": [
      "0.7517764092846992\n"
     ]
    }
   ],
   "source": [
    "print(rfe.score(X,y))"
   ]
  },
  {
   "cell_type": "code",
   "execution_count": 339,
   "id": "137a4736",
   "metadata": {},
   "outputs": [
    {
     "name": "stdout",
     "output_type": "stream",
     "text": [
      "{1: 0.635243960208432, 2: 0.6882993841781146, 3: 0.7404073898626243, 4: 0.7404073898626243, 5: 0.7517764092846992, 6: 0.757934628138323, 7: 0.7626717195641876, 8: 0.7678825201326386, 9: 0.7621980104216012, 10: 0.7664613927048792, 11: 0.7659876835622927, 12: 0.7669351018474656, 13: 0.7664613927048792, 14: 0.7664613927048792, 15: 0.7659876835622927, 16: 0.7674088109900521, 17: 0.7678825201326386, 18: 0.7678825201326386}\n",
      "{1: ['family_history_with_overweight'], 2: ['family_history_with_overweight', 'FAVC'], 3: ['family_history_with_overweight', 'FAVC', 'CAEC'], 4: ['Age', 'family_history_with_overweight', 'FAVC', 'CAEC'], 5: ['Age', 'family_history_with_overweight', 'FAVC', 'CAEC', 'Automobile'], 6: ['Age', 'family_history_with_overweight', 'FAVC', 'CAEC', 'SCC', 'Automobile'], 7: ['Age', 'family_history_with_overweight', 'FAVC', 'FCVC', 'CAEC', 'SCC', 'Automobile'], 8: ['Age', 'family_history_with_overweight', 'FAVC', 'FCVC', 'CAEC', 'SCC', 'Automobile', 'Walking'], 9: ['Age', 'family_history_with_overweight', 'FAVC', 'FCVC', 'CAEC', 'SCC', 'FAF', 'Automobile', 'Walking'], 10: ['Age', 'family_history_with_overweight', 'FAVC', 'FCVC', 'CAEC', 'CH2O', 'SCC', 'FAF', 'Automobile', 'Walking'], 11: ['Age', 'family_history_with_overweight', 'FAVC', 'FCVC', 'CAEC', 'CH2O', 'SCC', 'FAF', 'TUE', 'Automobile', 'Walking'], 12: ['Age', 'family_history_with_overweight', 'FAVC', 'FCVC', 'CAEC', 'SMOKE', 'CH2O', 'SCC', 'FAF', 'TUE', 'Automobile', 'Walking'], 13: ['Gender', 'Age', 'family_history_with_overweight', 'FAVC', 'FCVC', 'CAEC', 'SMOKE', 'CH2O', 'SCC', 'FAF', 'TUE', 'Automobile', 'Walking'], 14: ['Gender', 'Age', 'family_history_with_overweight', 'FAVC', 'FCVC', 'CAEC', 'SMOKE', 'CH2O', 'SCC', 'FAF', 'TUE', 'Automobile', 'Public_Transportation', 'Walking'], 15: ['Gender', 'Age', 'family_history_with_overweight', 'FAVC', 'FCVC', 'CAEC', 'SMOKE', 'CH2O', 'SCC', 'FAF', 'TUE', 'Automobile', 'Motorbike', 'Public_Transportation', 'Walking'], 16: ['Gender', 'Age', 'family_history_with_overweight', 'FAVC', 'FCVC', 'NCP', 'CAEC', 'SMOKE', 'CH2O', 'SCC', 'FAF', 'TUE', 'Automobile', 'Motorbike', 'Public_Transportation', 'Walking'], 17: ['Gender', 'Age', 'family_history_with_overweight', 'FAVC', 'FCVC', 'NCP', 'CAEC', 'SMOKE', 'CH2O', 'SCC', 'FAF', 'TUE', 'CALC', 'Automobile', 'Motorbike', 'Public_Transportation', 'Walking'], 18: ['Gender', 'Age', 'family_history_with_overweight', 'FAVC', 'FCVC', 'NCP', 'CAEC', 'SMOKE', 'CH2O', 'SCC', 'FAF', 'TUE', 'CALC', 'Automobile', 'Bike', 'Motorbike', 'Public_Transportation', 'Walking']}\n"
     ]
    },
    {
     "data": {
      "application/vnd.jupyter.widget-view+json": {
       "model_id": "3fbaec2623884ef1841b4869ccf54e30",
       "version_major": 2,
       "version_minor": 0
      },
      "image/png": "[encoded data removed]",
      "text/html": [
       "\n",
       "            <div style=\"display: inline-block;\">\n",
       "                <div class=\"jupyter-widgets widget-label\" style=\"text-align: center;\">\n",
       "                    Figure\n",
       "                </div>\n",
       "                <img src='data:image/png;base64,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' width=432.0/>\n",
       "            </div>\n",
       "        "
      ],
      "text/plain": [
       "Canvas(toolbar=Toolbar(toolitems=[('Home', 'Reset original view', 'home', 'home'), ('Back', 'Back to previous …"
      ]
     },
     "metadata": {},
     "output_type": "display_data"
    }
   ],
   "source": [
    "#Getting and plotting the accuracy of RFE over the range of all Features\n",
    "rfe_nfeature_score={} #dictionary to store the number of features (nfeatures) as keys and scores as values\n",
    "rfe_nfeature_feature = {} #dictionary to store the number of features (nfeatures) as keys and features as values\n",
    "\n",
    "\n",
    "for i in range(1,len(Features)+1):\n",
    "#     print(i)\n",
    "    rfe = RFE(estimator=lr,n_features_to_select=i)\n",
    "    rfe.fit(X,y);\n",
    "    rfe_features = [f for(f,support) in zip(Features,rfe.support_) if support==True]\n",
    "    rfe_nfeature_score[i] = rfe.score(X,y)\n",
    "    rfe_nfeature_feature[i] = rfe_features\n",
    "\n",
    "\n",
    "print(rfe_nfeature_score)\n",
    "print(rfe_nfeature_feature)\n",
    "\n",
    "\n",
    "\n",
    "plt.figure(facecolor='w', edgecolor='w')\n",
    "plt.plot(rfe_nfeature_score.keys(),rfe_nfeature_score.values(),marker='o',color='b')\n",
    "plt.xlabel('Number of Features')\n",
    "plt.ylabel('Performance')\n",
    "plt.title('Recursive Feature Elimination')\n",
    "plt.show()\n",
    "\n",
    "fig = plt\n",
    "fig.savefig('recursive.png',facecolor='w', edgecolor='w',transparent=False) #saves the plot"
   ]
  },
  {
   "cell_type": "markdown",
   "id": "c2562659",
   "metadata": {},
   "source": [
    "## Boruta Algorithm\n",
    "\n",
    "Let's use another type of wrapper method called the Boruta Algorithm, its operation relies on the random forest algorithm.\n",
    "You will have to create the Random forest model and then pass the model to the `BorutaPy` object"
   ]
  },
  {
   "cell_type": "code",
   "execution_count": 340,
   "id": "abce3646",
   "metadata": {},
   "outputs": [],
   "source": [
    "##First, create the Random forest model\n",
    "RF = RandomForestRegressor(n_estimators=100,max_depth=5,random_state=42)\n",
    "RF.fit(X,y);"
   ]
  },
  {
   "cell_type": "code",
   "execution_count": 341,
   "id": "07003d00",
   "metadata": {},
   "outputs": [],
   "source": [
    "#Next, create the Boruta object\n",
    "bor = BorutaPy(estimator=RF, n_estimators= 'auto',verbose=2,max_iter=10)"
   ]
  },
  {
   "cell_type": "markdown",
   "id": "3161e227",
   "metadata": {},
   "source": [
    "### Fit the model\n",
    "\n",
    "Fit the Boruta model to `X` and `y`."
   ]
  },
  {
   "cell_type": "code",
   "execution_count": 342,
   "id": "90b732fb",
   "metadata": {},
   "outputs": [
    {
     "name": "stdout",
     "output_type": "stream",
     "text": [
      "Iteration: \t1 / 10\n",
      "Confirmed: \t0\n",
      "Tentative: \t18\n",
      "Rejected: \t0\n",
      "Iteration: \t2 / 10\n",
      "Confirmed: \t0\n",
      "Tentative: \t18\n",
      "Rejected: \t0\n",
      "Iteration: \t3 / 10\n",
      "Confirmed: \t0\n",
      "Tentative: \t18\n",
      "Rejected: \t0\n",
      "Iteration: \t4 / 10\n",
      "Confirmed: \t0\n",
      "Tentative: \t18\n",
      "Rejected: \t0\n",
      "Iteration: \t5 / 10\n",
      "Confirmed: \t0\n",
      "Tentative: \t18\n",
      "Rejected: \t0\n",
      "Iteration: \t6 / 10\n",
      "Confirmed: \t0\n",
      "Tentative: \t18\n",
      "Rejected: \t0\n",
      "Iteration: \t7 / 10\n",
      "Confirmed: \t0\n",
      "Tentative: \t18\n",
      "Rejected: \t0\n",
      "Iteration: \t8 / 10\n",
      "Confirmed: \t9\n",
      "Tentative: \t2\n",
      "Rejected: \t7\n",
      "Iteration: \t9 / 10\n",
      "Confirmed: \t9\n",
      "Tentative: \t2\n",
      "Rejected: \t7\n",
      "\n",
      "\n",
      "BorutaPy finished running.\n",
      "\n",
      "Iteration: \t10 / 10\n",
      "Confirmed: \t9\n",
      "Tentative: \t1\n",
      "Rejected: \t7\n"
     ]
    }
   ],
   "source": [
    "bor.fit(np.array(X),np.array(y));"
   ]
  },
  {
   "cell_type": "markdown",
   "id": "80abc799",
   "metadata": {},
   "source": [
    "### Inspect chosen features\n",
    "\n",
    "Now that you've fit the Boruta model you can evaluate the results. Create a list of chosen feature names and call it `bor_features`. You can use a list comprehension and filter the features in `zip(features, bor.support_)` based on whether their support is `True` (meaning the model kept them) or `False` (meaning the model eliminated them).\n",
    "\n",
    "Hint: `[f for (f, support) in zip(features, bor.support_) if support]` will produce the desired list of feature names."
   ]
  },
  {
   "cell_type": "code",
   "execution_count": 343,
   "id": "7864105f",
   "metadata": {},
   "outputs": [
    {
     "name": "stdout",
     "output_type": "stream",
     "text": [
      "Index(['Gender', 'Age', 'family_history_with_overweight', 'FAVC', 'FCVC',\n",
      "       'NCP', 'CAEC', 'SMOKE', 'CH2O', 'SCC', 'FAF', 'TUE', 'CALC',\n",
      "       'Automobile', 'Bike', 'Motorbike', 'Public_Transportation', 'Walking'],\n",
      "      dtype='object')\n",
      "[ 3  1  1  1  1  1  1  5  1  8  1  1  4  5 10  7  2  9]\n",
      "['Age', 'family_history_with_overweight', 'FAVC', 'FCVC', 'NCP', 'CAEC', 'CH2O', 'FAF', 'TUE']\n"
     ]
    }
   ],
   "source": [
    "# See which features Boruta chose\n",
    "bor_features = [f for (f,support) in zip(Features, bor.support_) if support]\n",
    "print(Features)\n",
    "print(bor.ranking_)\n",
    "print(bor_features)"
   ]
  },
  {
   "cell_type": "code",
   "execution_count": 344,
   "id": "a2dfd101",
   "metadata": {},
   "outputs": [
    {
     "name": "stdout",
     "output_type": "stream",
     "text": [
      "['family_history_with_overweight', 'FAVC', 'CAEC', 'Age']\n"
     ]
    }
   ],
   "source": [
    "#group the features from each feature selection method into a set\n",
    "set1 = set(sfs.subsets_[7]['feature_names'])\n",
    "set2 = set(sbs.subsets_[10]['feature_names'])\n",
    "set3 = set(rfe_features)\n",
    "set4 = set(bor_features)\n",
    "\n",
    "#find the intersection between these sets\n",
    "intersection_set = set1 & set2 & set3 & set4\n",
    "\n",
    "final_features = list(intersection_set)\n",
    "print(final_features)\n"
   ]
  },
  {
   "cell_type": "code",
   "execution_count": 345,
   "id": "9d5c8d65",
   "metadata": {},
   "outputs": [
    {
     "name": "stdout",
     "output_type": "stream",
     "text": [
      "This new logistic model trained on 4 features accurately predicted 74.846% of respondents as obese while the original trained on 18 features predicted 76.599%\n"
     ]
    }
   ],
   "source": [
    "#Retrain the logistic and Random Forest regressor on the 4 features above\n",
    "#redefine the predictor variable\n",
    "y_new= obesity['NObeyesdad']\n",
    "X_new = obesity[bor_features]\n",
    "\n",
    "\n",
    "#create the new logistic regression model\n",
    "lr_new = LogisticRegression(max_iter=1000)\n",
    "#fit the X,y to the model\n",
    "lr_new.fit(X_new,y_new)\n",
    "print(f'This new logistic model trained on 4 features accurately predicted {round(100*lr_new.score(X_new,y_new),3)}% \\\n",
    "of respondents as obese while the original trained on 18 features predicted {round(100*org_score,3)}%') \n"
   ]
  }
 ],
 "metadata": {
  "kernelspec": {
   "display_name": "Python 3 (ipykernel)",
   "language": "python",
   "name": "python3"
  },
  "language_info": {
   "codemirror_mode": {
    "name": "ipython",
    "version": 3
   },
   "file_extension": ".py",
   "mimetype": "text/x-python",
   "name": "python",
   "nbconvert_exporter": "python",
   "pygments_lexer": "ipython3",
   "version": "3.10.5"
  }
 },
 "nbformat": 4,
 "nbformat_minor": 5
}
